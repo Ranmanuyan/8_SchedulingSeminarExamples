{
 "cells": [
  {
   "cell_type": "code",
   "execution_count": null,
   "metadata": {},
   "outputs": [],
   "source": [
    "from gurobipy import *\n",
    "\n",
    "number_job = 12  # number_job, including the source and sink node\n",
    "processing_time = [0,3,5,1,3,2,4,5,6,4,4,0]\n",
    "resource_consumption = [4,2,3,3,1,1,2,3,1,1,1,4]\n",
    "Job_successors = [[1,2,3],[4],[5,7],[5],[6],[7,8,9],[10],[10],[11],[11],[11],[]]\n",
    "Forbidden_Set = [[1,2],[1,3],[1,7],[2,3],[2,6],[3,6],[4,7,8],[4,7,9],[4,8,9],[6,7],[7,8,9]]\n",
    "\n",
    "\n",
    "# Initial the gurobi model\n",
    "m = Model()\n",
    "\n",
    "#add variables \n",
    "S = m.addVars(number_job,vtype=GRB.INTEGER, name='Start_time')\n",
    "z = m.addVars(number_job,number_job,vtype=GRB.BINARY, name='z')\n",
    "\n",
    "\n",
    "# Set the obj which means the minmize the makespan\n",
    "m.setObjective(S[number_job-1],GRB.MINIMIZE)\n",
    "\n",
    "# add constraints\n",
    "for i in range(number_job-1):\n",
    "    for j in range(i+1, number_job):\n",
    "        m.addConstr(z[i,j] + z[j,i] <= 1)\n",
    "\n",
    "for i in range(number_job):\n",
    "    for j in range(number_job):\n",
    "        for h in range(number_job):\n",
    "            if((i !=j) and (i != h) and (j != h)):\n",
    "                m.addConstr(z[i,j] + z[j,h] - z[i,h] <= 1)\n",
    "\n",
    "\n",
    "for i in range(number_job):\n",
    "    if(len(Job_successors[i]) != 0):\n",
    "        for j in Job_successors[i]:\n",
    "            m.addConstr(z[i,j] == 1)\n",
    "\n",
    "\n",
    "\n",
    "for i in range(number_job):\n",
    "    for j in range(number_job):\n",
    "        if(i != j):\n",
    "            m.addConstr(S[j] - S[i] + (1-z[i,j])*1000 >= processing_time[i])  # here 1000 means big M in the MIP.\n",
    "\n",
    "            \n",
    "for k in range(len(Forbidden_Set)):\n",
    "    m.addConstr(quicksum(z[i,j] for i in (Forbidden_Set[k]) for j in (Forbidden_Set[k]) if i != j) >= 1)\n",
    "        \n",
    "\n",
    "#    m.write('lnear_model11.lp')\n",
    "m.optimize()\n",
    "\n",
    "#    Get the solution\n",
    "output_dict={}\n",
    "vars =  m.getVars()\n",
    "for i in range(number_job):\n",
    "    print('%s %g' % (vars[i].varName, vars[i].x))\n",
    "    output_dict[i]=vars[i].x\n",
    "\n",
    "start=list(output_dict.values())\n",
    "finish=[]\n",
    "count=0\n",
    "for iteration in output_dict.values():\n",
    "    finish.append(iteration+processing_time[count])\n",
    "    count+=1\n",
    "\n",
    "# print('Obj: %g' % m.objVal)\n",
    "print('start',start)\n",
    "print(\"finish\",finish)"
   ]
  },
  {
   "cell_type": "code",
   "execution_count": null,
   "metadata": {},
   "outputs": [],
   "source": [
    "from datetime import datetime  \n",
    "from datetime import timedelta\n",
    "\n",
    "import plotly.express as px\n",
    "import pandas as pd\n",
    "\n",
    "# organize the data (absolute date time) to plotly\n",
    "# suppose we use 2020-01-01 as the baseline time\n",
    "start_date=[]\n",
    "finish_date =[]\n",
    "\n",
    "start_date_base = datetime.strptime('2020-01-01','%Y-%m-%d')\n",
    "\n",
    "for i in range(number_job):\n",
    "    start_date.append((start_date_base + timedelta(days=start[i])).strftime('%Y-%m-%d'))\n",
    "    finish_date.append((start_date_base + timedelta(days=finish[i])).strftime('%Y-%m-%d'))\n",
    "\n",
    "row_list = []\n",
    "for i in range(1, number_job-1):\n",
    "    dict1 = dict(Task = \"Job\"+str(i), Start = start_date[i], Finish = finish_date[i])\n",
    "    row_list.append(dict1)\n",
    "\n",
    "\n",
    "df = pd.DataFrame(row_list)\n",
    "\n",
    "fig = px.timeline(df, x_start=\"Start\", x_end=\"Finish\", y=\"Task\")\n",
    "# fig.update_yaxes(autorange=\"reversed\") # otherwise tasks are listed from the bottom up\n",
    "fig.show()"
   ]
  },
  {
   "cell_type": "code",
   "execution_count": null,
   "metadata": {
    "jupyter": {
     "source_hidden": true
    }
   },
   "outputs": [],
   "source": []
  },
  {
   "cell_type": "code",
   "execution_count": null,
   "metadata": {},
   "outputs": [],
   "source": []
  },
  {
   "cell_type": "code",
   "execution_count": null,
   "metadata": {},
   "outputs": [],
   "source": []
  },
  {
   "cell_type": "code",
   "execution_count": null,
   "metadata": {},
   "outputs": [],
   "source": []
  },
  {
   "cell_type": "code",
   "execution_count": null,
   "metadata": {},
   "outputs": [],
   "source": []
  },
  {
   "cell_type": "code",
   "execution_count": null,
   "metadata": {},
   "outputs": [],
   "source": []
  },
  {
   "cell_type": "code",
   "execution_count": null,
   "metadata": {},
   "outputs": [],
   "source": []
  },
  {
   "cell_type": "code",
   "execution_count": null,
   "metadata": {},
   "outputs": [],
   "source": []
  },
  {
   "cell_type": "code",
   "execution_count": null,
   "metadata": {},
   "outputs": [],
   "source": []
  },
  {
   "cell_type": "code",
   "execution_count": null,
   "metadata": {},
   "outputs": [],
   "source": []
  },
  {
   "cell_type": "code",
   "execution_count": null,
   "metadata": {},
   "outputs": [],
   "source": []
  },
  {
   "cell_type": "code",
   "execution_count": null,
   "metadata": {},
   "outputs": [],
   "source": []
  },
  {
   "cell_type": "code",
   "execution_count": null,
   "metadata": {},
   "outputs": [],
   "source": []
  },
  {
   "cell_type": "code",
   "execution_count": null,
   "metadata": {},
   "outputs": [],
   "source": []
  },
  {
   "cell_type": "code",
   "execution_count": null,
   "metadata": {},
   "outputs": [],
   "source": []
  },
  {
   "cell_type": "code",
   "execution_count": null,
   "metadata": {},
   "outputs": [],
   "source": [
    "\n"
   ]
  },
  {
   "cell_type": "code",
   "execution_count": null,
   "metadata": {},
   "outputs": [],
   "source": []
  },
  {
   "cell_type": "code",
   "execution_count": null,
   "metadata": {},
   "outputs": [],
   "source": []
  },
  {
   "cell_type": "code",
   "execution_count": null,
   "metadata": {},
   "outputs": [],
   "source": []
  },
  {
   "cell_type": "code",
   "execution_count": null,
   "metadata": {},
   "outputs": [],
   "source": []
  },
  {
   "cell_type": "code",
   "execution_count": null,
   "metadata": {},
   "outputs": [],
   "source": []
  },
  {
   "cell_type": "code",
   "execution_count": null,
   "metadata": {},
   "outputs": [],
   "source": []
  },
  {
   "cell_type": "code",
   "execution_count": null,
   "metadata": {},
   "outputs": [],
   "source": []
  },
  {
   "cell_type": "code",
   "execution_count": null,
   "metadata": {},
   "outputs": [],
   "source": []
  },
  {
   "cell_type": "code",
   "execution_count": null,
   "metadata": {},
   "outputs": [],
   "source": []
  },
  {
   "cell_type": "code",
   "execution_count": null,
   "metadata": {},
   "outputs": [],
   "source": []
  },
  {
   "cell_type": "code",
   "execution_count": null,
   "metadata": {},
   "outputs": [],
   "source": [
    "\n"
   ]
  },
  {
   "cell_type": "code",
   "execution_count": null,
   "metadata": {},
   "outputs": [],
   "source": []
  }
 ],
 "metadata": {
  "kernelspec": {
   "display_name": "Python 3",
   "language": "python",
   "name": "python3"
  },
  "language_info": {
   "codemirror_mode": {
    "name": "ipython",
    "version": 3
   },
   "file_extension": ".py",
   "mimetype": "text/x-python",
   "name": "python",
   "nbconvert_exporter": "python",
   "pygments_lexer": "ipython3",
   "version": "3.7.4"
  }
 },
 "nbformat": 4,
 "nbformat_minor": 4
}

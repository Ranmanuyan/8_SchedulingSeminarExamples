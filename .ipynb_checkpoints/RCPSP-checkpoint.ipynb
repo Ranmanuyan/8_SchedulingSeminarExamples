{
 "cells": [
  {
   "cell_type": "code",
   "execution_count": 23,
   "metadata": {},
   "outputs": [
    {
     "name": "stdout",
     "output_type": "stream",
     "text": [
      "Gurobi Optimizer version 9.0.1 build v9.0.1rc0 (mac64)\n",
      "Optimize a model with 1667 rows, 588 columns and 4968 nonzeros\n",
      "Model fingerprint: 0x0e6400a2\n",
      "Model has 11 quadratic constraints\n",
      "Model has 122 general constraints\n",
      "Variable types: 432 continuous, 156 integer (144 binary)\n",
      "Coefficient statistics:\n",
      "  Matrix range     [1e+00, 1e+03]\n",
      "  QMatrix range    [1e+00, 1e+00]\n",
      "  QLMatrix range   [1e+00, 1e+00]\n",
      "  Objective range  [1e+00, 1e+00]\n",
      "  Bounds range     [1e+00, 1e+00]\n",
      "  RHS range        [1e+00, 1e+03]\n",
      "Presolve removed 1306 rows and 528 columns\n",
      "Presolve time: 0.01s\n",
      "Presolved: 361 rows, 60 columns, 854 nonzeros\n",
      "Variable types: 0 continuous, 60 integer (48 binary)\n",
      "Found heuristic solution: objective 16.0000000\n",
      "\n",
      "Explored 0 nodes (0 simplex iterations) in 0.03 seconds\n",
      "Thread count was 4 (of 4 available processors)\n",
      "\n",
      "Solution count 1: 16 \n",
      "\n",
      "Optimal solution found (tolerance 1.00e-04)\n",
      "Best objective 1.600000000000e+01, best bound 1.600000000000e+01, gap 0.0000%\n",
      "Start_time[0] -0\n",
      "Start_time[1] -0\n",
      "Start_time[2] -0\n",
      "Start_time[3] -0\n",
      "Start_time[4] 3\n",
      "Start_time[5] 5\n",
      "Start_time[6] 6\n",
      "Start_time[7] 7\n",
      "Start_time[8] 7\n",
      "Start_time[9] 7\n",
      "Start_time[10] 12\n",
      "Start_time[11] 16\n",
      "start [-0.0, -0.0, -0.0, -0.0, 3.0, 5.0, 6.0, 7.0, 7.0, 7.0, 12.0, 16.0]\n",
      "finish [0.0, 3.0, 5.0, 1.0, 6.0, 7.0, 10.0, 12.0, 13.0, 11.0, 16.0, 16.0]\n",
      "Gurobi Optimizer version 9.0.1 build v9.0.1rc0 (mac64)\n",
      "Optimize a model with 1667 rows, 588 columns and 4968 nonzeros\n",
      "Model fingerprint: 0xc6d3f595\n",
      "Model has 22 quadratic constraints\n",
      "Model has 133 general constraints\n",
      "Variable types: 432 continuous, 156 integer (144 binary)\n",
      "Coefficient statistics:\n",
      "  Matrix range     [1e+00, 1e+03]\n",
      "  QMatrix range    [1e+00, 1e+00]\n",
      "  QLMatrix range   [1e+00, 1e+00]\n",
      "  Objective range  [1e+00, 1e+00]\n",
      "  Bounds range     [1e+00, 1e+00]\n",
      "  RHS range        [1e+00, 1e+03]\n",
      "\n",
      "MIP start from previous solve produced solution with objective 16 (0.02s)\n",
      "Loaded MIP start from previous solve with objective 16\n",
      "\n",
      "Presolve removed 1302 rows and 510 columns\n",
      "Presolve time: 0.01s\n",
      "Presolved: 365 rows, 78 columns, 870 nonzeros\n",
      "Variable types: 19 continuous, 59 integer (47 binary)\n",
      "\n",
      "Explored 0 nodes (0 simplex iterations) in 0.04 seconds\n",
      "Thread count was 4 (of 4 available processors)\n",
      "\n",
      "Solution count 1: 16 \n",
      "\n",
      "Optimal solution found (tolerance 1.00e-04)\n",
      "Best objective 1.600000000000e+01, best bound 1.600000000000e+01, gap 0.0000%\n",
      "Start_time[0] 0\n",
      "Start_time[1] 0\n",
      "Start_time[2] 0\n",
      "Start_time[3] 0\n",
      "Start_time[4] 3\n",
      "Start_time[5] 5\n",
      "Start_time[6] 6\n",
      "Start_time[7] 7\n",
      "Start_time[8] 7\n",
      "Start_time[9] 7\n",
      "Start_time[10] 12\n",
      "Start_time[11] 16\n",
      "start [0.0, 0.0, 0.0, 0.0, 3.0, 5.0, 6.0, 7.0, 7.0, 7.0, 12.0, 16.0]\n",
      "finish [0.0, 3.0, 5.0, 1.0, 6.0, 7.0, 10.0, 12.0, 13.0, 11.0, 16.0, 16.0]\n",
      "Gurobi Optimizer version 9.0.1 build v9.0.1rc0 (mac64)\n",
      "Optimize a model with 1667 rows, 588 columns and 4968 nonzeros\n",
      "Model fingerprint: 0xcbe2d2fd\n",
      "Model has 33 quadratic constraints\n",
      "Model has 144 general constraints\n",
      "Variable types: 432 continuous, 156 integer (144 binary)\n",
      "Coefficient statistics:\n",
      "  Matrix range     [1e+00, 1e+03]\n",
      "  QMatrix range    [1e+00, 1e+00]\n",
      "  QLMatrix range   [1e+00, 1e+00]\n",
      "  Objective range  [1e+00, 1e+00]\n",
      "  Bounds range     [1e+00, 1e+00]\n",
      "  RHS range        [1e+00, 1e+03]\n",
      "\n",
      "MIP start from previous solve produced solution with objective 16 (0.02s)\n",
      "Loaded MIP start from previous solve with objective 16\n",
      "\n",
      "Presolve removed 1295 rows and 498 columns\n",
      "Presolve time: 0.01s\n",
      "Presolved: 372 rows, 90 columns, 903 nonzeros\n",
      "Variable types: 31 continuous, 59 integer (47 binary)\n",
      "\n",
      "Explored 0 nodes (0 simplex iterations) in 0.03 seconds\n",
      "Thread count was 4 (of 4 available processors)\n",
      "\n",
      "Solution count 1: 16 \n",
      "\n",
      "Optimal solution found (tolerance 1.00e-04)\n",
      "Best objective 1.600000000000e+01, best bound 1.600000000000e+01, gap 0.0000%\n",
      "Start_time[0] 0\n",
      "Start_time[1] 0\n",
      "Start_time[2] 0\n",
      "Start_time[3] 0\n",
      "Start_time[4] 3\n",
      "Start_time[5] 5\n",
      "Start_time[6] 6\n",
      "Start_time[7] 7\n",
      "Start_time[8] 7\n",
      "Start_time[9] 7\n",
      "Start_time[10] 12\n",
      "Start_time[11] 16\n",
      "start [0.0, 0.0, 0.0, 0.0, 3.0, 5.0, 6.0, 7.0, 7.0, 7.0, 12.0, 16.0]\n",
      "finish [0.0, 3.0, 5.0, 1.0, 6.0, 7.0, 10.0, 12.0, 13.0, 11.0, 16.0, 16.0]\n",
      "Gurobi Optimizer version 9.0.1 build v9.0.1rc0 (mac64)\n",
      "Optimize a model with 1667 rows, 588 columns and 4968 nonzeros\n",
      "Model fingerprint: 0x032134d5\n",
      "Model has 44 quadratic constraints\n",
      "Model has 155 general constraints\n",
      "Variable types: 432 continuous, 156 integer (144 binary)\n",
      "Coefficient statistics:\n",
      "  Matrix range     [1e+00, 1e+03]\n",
      "  QMatrix range    [1e+00, 1e+00]\n",
      "  QLMatrix range   [1e+00, 1e+00]\n",
      "  Objective range  [1e+00, 1e+00]\n",
      "  Bounds range     [1e+00, 1e+00]\n",
      "  RHS range        [1e+00, 1e+03]\n",
      "\n",
      "MIP start from previous solve produced solution with objective 16 (0.01s)\n",
      "Loaded MIP start from previous solve with objective 16\n",
      "\n",
      "Presolve removed 1290 rows and 488 columns\n",
      "Presolve time: 0.01s\n",
      "Presolved: 377 rows, 100 columns, 931 nonzeros\n",
      "Variable types: 41 continuous, 59 integer (47 binary)\n",
      "\n",
      "Explored 0 nodes (0 simplex iterations) in 0.03 seconds\n",
      "Thread count was 4 (of 4 available processors)\n",
      "\n",
      "Solution count 1: 16 \n",
      "\n",
      "Optimal solution found (tolerance 1.00e-04)\n",
      "Best objective 1.600000000000e+01, best bound 1.600000000000e+01, gap 0.0000%\n",
      "Start_time[0] 0\n",
      "Start_time[1] 0\n",
      "Start_time[2] 0\n",
      "Start_time[3] 0\n",
      "Start_time[4] 3\n",
      "Start_time[5] 5\n",
      "Start_time[6] 6\n",
      "Start_time[7] 7\n",
      "Start_time[8] 7\n",
      "Start_time[9] 7\n",
      "Start_time[10] 12\n",
      "Start_time[11] 16\n",
      "start [0.0, 0.0, 0.0, 0.0, 3.0, 5.0, 6.0, 7.0, 7.0, 7.0, 12.0, 16.0]\n",
      "finish [0.0, 3.0, 5.0, 1.0, 6.0, 7.0, 10.0, 12.0, 13.0, 11.0, 16.0, 16.0]\n",
      "Gurobi Optimizer version 9.0.1 build v9.0.1rc0 (mac64)\n",
      "Optimize a model with 1667 rows, 588 columns and 4968 nonzeros\n",
      "Model fingerprint: 0xfedb700b\n",
      "Model has 55 quadratic constraints\n",
      "Model has 166 general constraints\n",
      "Variable types: 432 continuous, 156 integer (144 binary)\n",
      "Coefficient statistics:\n",
      "  Matrix range     [1e+00, 1e+03]\n",
      "  QMatrix range    [1e+00, 1e+00]\n",
      "  QLMatrix range   [1e+00, 1e+00]\n",
      "  Objective range  [1e+00, 1e+00]\n",
      "  Bounds range     [1e+00, 1e+00]\n",
      "  RHS range        [1e+00, 1e+03]\n",
      "\n",
      "MIP start from previous solve produced solution with objective 16 (0.02s)\n",
      "Loaded MIP start from previous solve with objective 16\n",
      "\n",
      "Presolve removed 1283 rows and 479 columns\n",
      "Presolve time: 0.01s\n",
      "Presolved: 384 rows, 109 columns, 961 nonzeros\n",
      "Variable types: 50 continuous, 59 integer (47 binary)\n",
      "\n",
      "Explored 0 nodes (0 simplex iterations) in 0.04 seconds\n",
      "Thread count was 4 (of 4 available processors)\n",
      "\n",
      "Solution count 1: 16 \n",
      "\n",
      "Optimal solution found (tolerance 1.00e-04)\n",
      "Best objective 1.600000000000e+01, best bound 1.600000000000e+01, gap 0.0000%\n",
      "Start_time[0] 0\n",
      "Start_time[1] 0\n",
      "Start_time[2] 0\n",
      "Start_time[3] 0\n",
      "Start_time[4] 3\n",
      "Start_time[5] 5\n",
      "Start_time[6] 6\n",
      "Start_time[7] 7\n",
      "Start_time[8] 7\n",
      "Start_time[9] 7\n",
      "Start_time[10] 12\n",
      "Start_time[11] 16\n",
      "start [0.0, 0.0, 0.0, 0.0, 3.0, 5.0, 6.0, 7.0, 7.0, 7.0, 12.0, 16.0]\n",
      "finish [0.0, 3.0, 5.0, 1.0, 6.0, 7.0, 10.0, 12.0, 13.0, 11.0, 16.0, 16.0]\n",
      "Gurobi Optimizer version 9.0.1 build v9.0.1rc0 (mac64)\n",
      "Optimize a model with 1667 rows, 588 columns and 4968 nonzeros\n",
      "Model fingerprint: 0xde3b9ad0\n",
      "Model has 66 quadratic constraints\n",
      "Model has 177 general constraints\n",
      "Variable types: 432 continuous, 156 integer (144 binary)\n",
      "Coefficient statistics:\n",
      "  Matrix range     [1e+00, 1e+03]\n",
      "  QMatrix range    [1e+00, 1e+00]\n",
      "  QLMatrix range   [1e+00, 1e+00]\n",
      "  Objective range  [1e+00, 1e+00]\n",
      "  Bounds range     [1e+00, 1e+00]\n",
      "  RHS range        [1e+00, 1e+03]\n",
      "\n",
      "MIP start from previous solve produced solution with objective 16 (0.01s)\n",
      "Loaded MIP start from previous solve with objective 16\n",
      "\n",
      "Presolve removed 1279 rows and 471 columns\n",
      "Presolve time: 0.01s\n",
      "Presolved: 388 rows, 117 columns, 983 nonzeros\n",
      "Variable types: 58 continuous, 59 integer (47 binary)\n",
      "\n",
      "Explored 0 nodes (0 simplex iterations) in 0.04 seconds\n",
      "Thread count was 4 (of 4 available processors)\n",
      "\n",
      "Solution count 1: 16 \n",
      "\n",
      "Optimal solution found (tolerance 1.00e-04)\n",
      "Best objective 1.600000000000e+01, best bound 1.600000000000e+01, gap 0.0000%\n",
      "Start_time[0] 0\n",
      "Start_time[1] 0\n",
      "Start_time[2] 0\n",
      "Start_time[3] 0\n",
      "Start_time[4] 3\n",
      "Start_time[5] 5\n",
      "Start_time[6] 6\n",
      "Start_time[7] 7\n",
      "Start_time[8] 7\n",
      "Start_time[9] 7\n",
      "Start_time[10] 12\n",
      "Start_time[11] 16\n",
      "start [0.0, 0.0, 0.0, 0.0, 3.0, 5.0, 6.0, 7.0, 7.0, 7.0, 12.0, 16.0]\n",
      "finish [0.0, 3.0, 5.0, 1.0, 6.0, 7.0, 10.0, 12.0, 13.0, 11.0, 16.0, 16.0]\n",
      "Gurobi Optimizer version 9.0.1 build v9.0.1rc0 (mac64)\n"
     ]
    },
    {
     "name": "stdout",
     "output_type": "stream",
     "text": [
      "Optimize a model with 1667 rows, 588 columns and 4968 nonzeros\n",
      "Model fingerprint: 0x6b472bd1\n",
      "Model has 77 quadratic constraints\n",
      "Model has 188 general constraints\n",
      "Variable types: 432 continuous, 156 integer (144 binary)\n",
      "Coefficient statistics:\n",
      "  Matrix range     [1e+00, 1e+03]\n",
      "  QMatrix range    [1e+00, 1e+00]\n",
      "  QLMatrix range   [1e+00, 1e+00]\n",
      "  Objective range  [1e+00, 1e+00]\n",
      "  Bounds range     [1e+00, 1e+00]\n",
      "  RHS range        [1e+00, 1e+03]\n",
      "\n",
      "MIP start from previous solve produced solution with objective 16 (0.02s)\n",
      "Loaded MIP start from previous solve with objective 16\n",
      "\n",
      "Presolve removed 1272 rows and 463 columns\n",
      "Presolve time: 0.01s\n",
      "Presolved: 395 rows, 125 columns, 1011 nonzeros\n",
      "Variable types: 66 continuous, 59 integer (47 binary)\n",
      "\n",
      "Explored 0 nodes (0 simplex iterations) in 0.05 seconds\n",
      "Thread count was 4 (of 4 available processors)\n",
      "\n",
      "Solution count 1: 16 \n",
      "\n",
      "Optimal solution found (tolerance 1.00e-04)\n",
      "Best objective 1.600000000000e+01, best bound 1.600000000000e+01, gap 0.0000%\n",
      "Start_time[0] 0\n",
      "Start_time[1] 0\n",
      "Start_time[2] 0\n",
      "Start_time[3] 0\n",
      "Start_time[4] 3\n",
      "Start_time[5] 5\n",
      "Start_time[6] 6\n",
      "Start_time[7] 7\n",
      "Start_time[8] 7\n",
      "Start_time[9] 7\n",
      "Start_time[10] 12\n",
      "Start_time[11] 16\n",
      "start [0.0, 0.0, 0.0, 0.0, 3.0, 5.0, 6.0, 7.0, 7.0, 7.0, 12.0, 16.0]\n",
      "finish [0.0, 3.0, 5.0, 1.0, 6.0, 7.0, 10.0, 12.0, 13.0, 11.0, 16.0, 16.0]\n",
      "Gurobi Optimizer version 9.0.1 build v9.0.1rc0 (mac64)\n",
      "Optimize a model with 1667 rows, 588 columns and 4968 nonzeros\n",
      "Model fingerprint: 0x13667393\n",
      "Model has 88 quadratic constraints\n",
      "Model has 199 general constraints\n",
      "Variable types: 432 continuous, 156 integer (144 binary)\n",
      "Coefficient statistics:\n",
      "  Matrix range     [1e+00, 1e+03]\n",
      "  QMatrix range    [1e+00, 1e+00]\n",
      "  QLMatrix range   [1e+00, 1e+00]\n",
      "  Objective range  [1e+00, 1e+00]\n",
      "  Bounds range     [1e+00, 1e+00]\n",
      "  RHS range        [1e+00, 1e+03]\n",
      "\n",
      "MIP start from previous solve did not produce a new incumbent solution\n",
      "\n",
      "Presolve removed 1253 rows and 454 columns\n",
      "Presolve time: 0.01s\n",
      "Presolved: 414 rows, 134 columns, 1069 nonzeros\n",
      "Variable types: 74 continuous, 60 integer (48 binary)\n",
      "\n",
      "Root relaxation: objective 1.600000e+01, 62 iterations, 0.00 seconds\n",
      "\n",
      "    Nodes    |    Current Node    |     Objective Bounds      |     Work\n",
      " Expl Unexpl |  Obj  Depth IntInf | Incumbent    BestBd   Gap | It/Node Time\n",
      "\n",
      "     0     0   16.00000    0    1          -   16.00000      -     -    0s\n",
      "     0     0   16.00000    0    2          -   16.00000      -     -    0s\n",
      "H    0     0                      19.0000000   16.00000  15.8%     -    0s\n",
      "H    0     0                      16.0000000   16.00000  0.00%     -    0s\n",
      "     0     0   16.00000    0    2   16.00000   16.00000  0.00%     -    0s\n",
      "\n",
      "Cutting planes:\n",
      "  MIR: 1\n",
      "  Flow cover: 1\n",
      "  RLT: 1\n",
      "\n",
      "Explored 1 nodes (64 simplex iterations) in 0.07 seconds\n",
      "Thread count was 4 (of 4 available processors)\n",
      "\n",
      "Solution count 2: 16 19 \n",
      "\n",
      "Optimal solution found (tolerance 1.00e-04)\n",
      "Best objective 1.600000000000e+01, best bound 1.600000000000e+01, gap 0.0000%\n",
      "Start_time[0] 0\n",
      "Start_time[1] 1\n",
      "Start_time[2] 0\n",
      "Start_time[3] 0\n",
      "Start_time[4] 4\n",
      "Start_time[5] 5\n",
      "Start_time[6] 7\n",
      "Start_time[7] 7\n",
      "Start_time[8] 7\n",
      "Start_time[9] 7\n",
      "Start_time[10] 12\n",
      "Start_time[11] 16\n",
      "start [0.0, 1.0, 0.0, 0.0, 4.0, 5.0, 7.0, 7.0, 7.0, 7.0, 12.0, 16.0]\n",
      "finish [0.0, 4.0, 5.0, 1.0, 7.0, 7.0, 11.0, 12.0, 13.0, 11.0, 16.0, 16.0]\n",
      "Gurobi Optimizer version 9.0.1 build v9.0.1rc0 (mac64)\n",
      "Optimize a model with 1667 rows, 588 columns and 4968 nonzeros\n",
      "Model fingerprint: 0xbdf9571c\n",
      "Model has 99 quadratic constraints\n",
      "Model has 210 general constraints\n",
      "Variable types: 432 continuous, 156 integer (144 binary)\n",
      "Coefficient statistics:\n",
      "  Matrix range     [1e+00, 1e+03]\n",
      "  QMatrix range    [1e+00, 1e+00]\n",
      "  QLMatrix range   [1e+00, 1e+00]\n",
      "  Objective range  [1e+00, 1e+00]\n",
      "  Bounds range     [1e+00, 1e+00]\n",
      "  RHS range        [1e+00, 1e+03]\n",
      "\n",
      "MIP start from previous solve did not produce a new incumbent solution\n",
      "\n",
      "Presolve removed 1246 rows and 447 columns\n",
      "Presolve time: 0.01s\n",
      "Presolved: 421 rows, 141 columns, 1095 nonzeros\n",
      "Variable types: 81 continuous, 60 integer (48 binary)\n",
      "\n",
      "Root relaxation: objective 1.600000e+01, 110 iterations, 0.00 seconds\n",
      "\n",
      "    Nodes    |    Current Node    |     Objective Bounds      |     Work\n",
      " Expl Unexpl |  Obj  Depth IntInf | Incumbent    BestBd   Gap | It/Node Time\n",
      "\n",
      "     0     0   16.00000    0    3          -   16.00000      -     -    0s\n",
      "H    0     0                      20.0000000   16.00000  20.0%     -    0s\n",
      "H    0     0                      18.0000000   16.00000  11.1%     -    0s\n",
      "     0     0   16.00000    0    4   18.00000   16.00000  11.1%     -    0s\n",
      "H    0     0                      17.0000000   16.00000  5.88%     -    0s\n",
      "     0     0   16.00000    0    3   17.00000   16.00000  5.88%     -    0s\n",
      "H    0     0                      16.0000000   16.00000  0.00%     -    0s\n",
      "     0     0   16.00000    0    3   16.00000   16.00000  0.00%     -    0s\n",
      "\n",
      "Explored 1 nodes (172 simplex iterations) in 0.07 seconds\n",
      "Thread count was 4 (of 4 available processors)\n",
      "\n",
      "Solution count 4: 16 17 18 20 \n",
      "\n",
      "Optimal solution found (tolerance 1.00e-04)\n",
      "Best objective 1.600000000000e+01, best bound 1.600000000000e+01, gap 0.0000%\n",
      "Start_time[0] 0\n",
      "Start_time[1] 0\n",
      "Start_time[2] 0\n",
      "Start_time[3] 3\n",
      "Start_time[4] 4\n",
      "Start_time[5] 5\n",
      "Start_time[6] 7\n",
      "Start_time[7] 7\n",
      "Start_time[8] 10\n",
      "Start_time[9] 12\n",
      "Start_time[10] 12\n",
      "Start_time[11] 16\n",
      "start [0.0, 0.0, 0.0, 3.0, 4.0, 5.0, 7.0, 7.0, 10.0, 12.0, 12.0, 16.0]\n",
      "finish [0.0, 3.0, 5.0, 4.0, 7.0, 7.0, 11.0, 12.0, 16.0, 16.0, 16.0, 16.0]\n",
      "Gurobi Optimizer version 9.0.1 build v9.0.1rc0 (mac64)\n",
      "Optimize a model with 1667 rows, 588 columns and 4968 nonzeros\n",
      "Model fingerprint: 0xe25749fa\n",
      "Model has 110 quadratic constraints\n",
      "Model has 221 general constraints\n",
      "Variable types: 432 continuous, 156 integer (144 binary)\n",
      "Coefficient statistics:\n",
      "  Matrix range     [1e+00, 1e+03]\n",
      "  QMatrix range    [1e+00, 1e+00]\n",
      "  QLMatrix range   [1e+00, 1e+00]\n",
      "  Objective range  [1e+00, 1e+00]\n",
      "  Bounds range     [1e+00, 1e+00]\n",
      "  RHS range        [1e+00, 1e+03]\n",
      "\n",
      "MIP start from previous solve did not produce a new incumbent solution\n",
      "\n",
      "Presolve removed 1239 rows and 440 columns\n",
      "Presolve time: 0.01s\n",
      "Presolved: 428 rows, 148 columns, 1121 nonzeros\n",
      "Variable types: 88 continuous, 60 integer (48 binary)\n",
      "\n",
      "Root relaxation: objective 1.600000e+01, 109 iterations, 0.00 seconds\n",
      "\n",
      "    Nodes    |    Current Node    |     Objective Bounds      |     Work\n",
      " Expl Unexpl |  Obj  Depth IntInf | Incumbent    BestBd   Gap | It/Node Time\n",
      "\n",
      "     0     0   16.00000    0    7          -   16.00000      -     -    0s\n",
      "H    0     0                      25.0000000   16.00000  36.0%     -    0s\n",
      "     0     0   16.00000    0   18   25.00000   16.00000  36.0%     -    0s\n",
      "     0     0   16.00000    0    3   25.00000   16.00000  36.0%     -    0s\n",
      "H    0     0                      17.0000000   16.00000  5.88%     -    0s\n",
      "     0     0 infeasible    0        17.00000   17.00000  0.00%     -    0s\n",
      "\n",
      "Cutting planes:\n",
      "  Gomory: 1\n",
      "  Implied bound: 9\n",
      "  MIR: 2\n",
      "  Flow cover: 3\n",
      "  RLT: 6\n",
      "  Relax-and-lift: 1\n",
      "\n",
      "Explored 1 nodes (353 simplex iterations) in 0.12 seconds\n",
      "Thread count was 4 (of 4 available processors)\n",
      "\n",
      "Solution count 2: 17 25 \n",
      "\n",
      "Optimal solution found (tolerance 1.00e-04)\n",
      "Best objective 1.700000000000e+01, best bound 1.700000000000e+01, gap 0.0000%\n",
      "Start_time[0] 0\n",
      "Start_time[1] 0\n",
      "Start_time[2] 1\n",
      "Start_time[3] 0\n",
      "Start_time[4] 3\n",
      "Start_time[5] 6\n",
      "Start_time[6] 6\n",
      "Start_time[7] 8\n",
      "Start_time[8] 10\n",
      "Start_time[9] 10\n",
      "Start_time[10] 13\n",
      "Start_time[11] 17\n",
      "start [0.0, 0.0, 1.0, 0.0, 3.0, 6.0, 6.0, 8.0, 10.0, 10.0, 13.0, 17.0]\n",
      "finish [0.0, 3.0, 6.0, 1.0, 6.0, 8.0, 10.0, 13.0, 16.0, 14.0, 17.0, 17.0]\n",
      "Gurobi Optimizer version 9.0.1 build v9.0.1rc0 (mac64)\n",
      "Optimize a model with 1667 rows, 588 columns and 4968 nonzeros\n",
      "Model fingerprint: 0x2a329785\n",
      "Model has 121 quadratic constraints\n",
      "Model has 232 general constraints\n",
      "Variable types: 432 continuous, 156 integer (144 binary)\n",
      "Coefficient statistics:\n",
      "  Matrix range     [1e+00, 1e+03]\n",
      "  QMatrix range    [1e+00, 1e+00]\n",
      "  QLMatrix range   [1e+00, 1e+00]\n",
      "  Objective range  [1e+00, 1e+00]\n",
      "  Bounds range     [1e+00, 1e+00]\n",
      "  RHS range        [1e+00, 1e+03]\n",
      "\n",
      "MIP start from previous solve did not produce a new incumbent solution\n",
      "\n",
      "Presolve removed 1236 rows and 438 columns\n"
     ]
    },
    {
     "name": "stdout",
     "output_type": "stream",
     "text": [
      "Presolve time: 0.01s\n",
      "Presolved: 431 rows, 150 columns, 1130 nonzeros\n",
      "Variable types: 90 continuous, 60 integer (48 binary)\n",
      "\n",
      "Root relaxation: objective 1.600000e+01, 136 iterations, 0.00 seconds\n",
      "\n",
      "    Nodes    |    Current Node    |     Objective Bounds      |     Work\n",
      " Expl Unexpl |  Obj  Depth IntInf | Incumbent    BestBd   Gap | It/Node Time\n",
      "\n",
      "     0     0   16.00000    0   39          -   16.00000      -     -    0s\n",
      "     0     0   16.00000    0   27          -   16.00000      -     -    0s\n",
      "     0     0   16.00000    0   23          -   16.00000      -     -    0s\n",
      "     0     0   16.00000    0   26          -   16.00000      -     -    0s\n",
      "     0     0   16.12180    0   57          -   16.12180      -     -    0s\n",
      "     0     0   16.12180    0   58          -   16.12180      -     -    0s\n",
      "     0     0   16.19765    0   56          -   16.19765      -     -    0s\n",
      "     0     0   16.20300    0   56          -   16.20300      -     -    0s\n",
      "     0     0   16.20300    0   54          -   16.20300      -     -    0s\n",
      "     0     0   16.20300    0   54          -   16.20300      -     -    0s\n",
      "     0     0   16.20578    0   53          -   16.20578      -     -    0s\n",
      "     0     0   16.20578    0   53          -   16.20578      -     -    0s\n",
      "     0     0   16.21201    0   53          -   16.21201      -     -    0s\n",
      "     0     0   16.21201    0   52          -   16.21201      -     -    0s\n",
      "     0     0   16.21201    0   53          -   16.21201      -     -    0s\n",
      "     0     0   16.21201    0   53          -   16.21201      -     -    0s\n",
      "     0     0   16.21201    0   51          -   16.21201      -     -    0s\n",
      "     0     0   16.21201    0   51          -   16.21201      -     -    0s\n",
      "     0     0   16.21201    0   51          -   16.21201      -     -    0s\n",
      "     0     0   16.21201    0   50          -   16.21201      -     -    0s\n",
      "H    0     0                      31.0000000   16.21201  47.7%     -    0s\n",
      "H    0     0                      29.0000000   16.21201  44.1%     -    0s\n",
      "     0     1   16.21201    0   50   29.00000   16.21201  44.1%     -    0s\n",
      "H   28    34                      25.0000000   17.00000  32.0%  14.8    0s\n",
      "*   58    34              11      24.0000000   17.00000  29.2%  12.0    0s\n",
      "H   76    37                      23.0000000   17.00000  26.1%  10.4    0s\n",
      "*  137    38              12      22.0000000   17.00000  22.7%  10.8    0s\n",
      "\n",
      "Cutting planes:\n",
      "  Gomory: 1\n",
      "  MIR: 31\n",
      "  StrongCG: 1\n",
      "  Flow cover: 9\n",
      "  Inf proof: 6\n",
      "  RLT: 15\n",
      "  Relax-and-lift: 2\n",
      "\n",
      "Explored 273 nodes (3353 simplex iterations) in 0.56 seconds\n",
      "Thread count was 4 (of 4 available processors)\n",
      "\n",
      "Solution count 6: 22 23 24 ... 31\n",
      "\n",
      "Optimal solution found (tolerance 1.00e-04)\n",
      "Best objective 2.200000000000e+01, best bound 2.200000000000e+01, gap 0.0000%\n",
      "Start_time[0] -0\n",
      "Start_time[1] -0\n",
      "Start_time[2] 4\n",
      "Start_time[3] 3\n",
      "Start_time[4] 6\n",
      "Start_time[5] 9\n",
      "Start_time[6] 9\n",
      "Start_time[7] 13\n",
      "Start_time[8] 11\n",
      "Start_time[9] 18\n",
      "Start_time[10] 18\n",
      "Start_time[11] 22\n",
      "start [-0.0, -0.0, 4.0, 3.0, 6.0, 9.0, 9.0, 13.0, 11.0, 18.0, 18.0, 22.0]\n",
      "finish [0.0, 3.0, 9.0, 4.0, 9.0, 11.0, 13.0, 18.0, 17.0, 22.0, 22.0, 22.0]\n",
      "Gurobi Optimizer version 9.0.1 build v9.0.1rc0 (mac64)\n",
      "Optimize a model with 1667 rows, 588 columns and 4968 nonzeros\n",
      "Model fingerprint: 0x707dfbe9\n",
      "Model has 132 quadratic constraints\n",
      "Model has 243 general constraints\n",
      "Variable types: 432 continuous, 156 integer (144 binary)\n",
      "Coefficient statistics:\n",
      "  Matrix range     [1e+00, 1e+03]\n",
      "  QMatrix range    [1e+00, 1e+00]\n",
      "  QLMatrix range   [1e+00, 1e+00]\n",
      "  Objective range  [1e+00, 1e+00]\n",
      "  Bounds range     [1e+00, 1e+00]\n",
      "  RHS range        [1e+00, 1e+03]\n",
      "\n",
      "MIP start from previous solve produced solution with objective 22 (0.02s)\n",
      "Loaded MIP start from previous solve with objective 22\n",
      "\n",
      "Presolve removed 1236 rows and 438 columns\n",
      "Presolve time: 0.01s\n",
      "Presolved: 431 rows, 150 columns, 1130 nonzeros\n",
      "Variable types: 90 continuous, 60 integer (48 binary)\n",
      "\n",
      "Root relaxation: objective 1.600000e+01, 106 iterations, 0.00 seconds\n",
      "\n",
      "    Nodes    |    Current Node    |     Objective Bounds      |     Work\n",
      " Expl Unexpl |  Obj  Depth IntInf | Incumbent    BestBd   Gap | It/Node Time\n",
      "\n",
      "     0     0   16.00000    0    8   22.00000   16.00000  27.3%     -    0s\n",
      "     0     0   16.00000    0   19   22.00000   16.00000  27.3%     -    0s\n",
      "     0     0   16.12000    0   29   22.00000   16.12000  26.7%     -    0s\n",
      "     0     0   17.00000    0   22   22.00000   17.00000  22.7%     -    0s\n",
      "     0     0   17.00000    0   22   22.00000   17.00000  22.7%     -    0s\n",
      "     0     0   17.63158    0   23   22.00000   17.63158  19.9%     -    0s\n",
      "     0     0   17.63158    0   22   22.00000   17.63158  19.9%     -    0s\n",
      "     0     0   17.75000    0   17   22.00000   17.75000  19.3%     -    0s\n",
      "     0     0   17.75000    0   23   22.00000   17.75000  19.3%     -    0s\n",
      "     0     0   17.85714    0   24   22.00000   17.85714  18.8%     -    0s\n",
      "     0     0   18.00000    0   24   22.00000   18.00000  18.2%     -    0s\n",
      "     0     0   18.00000    0   20   22.00000   18.00000  18.2%     -    0s\n",
      "     0     0   18.00000    0   17   22.00000   18.00000  18.2%     -    0s\n",
      "     0     0   18.00000    0   17   22.00000   18.00000  18.2%     -    0s\n",
      "     0     0   18.00000    0   16   22.00000   18.00000  18.2%     -    0s\n",
      "     0     0   18.00000    0    5   22.00000   18.00000  18.2%     -    0s\n",
      "     0     0   18.00000    0   16   22.00000   18.00000  18.2%     -    0s\n",
      "     0     0   18.00000    0    4   22.00000   18.00000  18.2%     -    0s\n",
      "     0     0   18.00000    0   11   22.00000   18.00000  18.2%     -    0s\n",
      "     0     0   18.00000    0    5   22.00000   18.00000  18.2%     -    0s\n",
      "     0     0   18.00000    0    5   22.00000   18.00000  18.2%     -    0s\n",
      "     0     0   18.00000    0    6   22.00000   18.00000  18.2%     -    0s\n",
      "     0     0   18.00000    0   29   22.00000   18.00000  18.2%     -    0s\n",
      "     0     0   18.00000    0   12   22.00000   18.00000  18.2%     -    0s\n",
      "     0     0   18.00889    0   29   22.00000   18.00889  18.1%     -    0s\n",
      "     0     0   18.12500    0   29   22.00000   18.12500  17.6%     -    0s\n",
      "     0     0   18.12500    0   27   22.00000   18.12500  17.6%     -    0s\n",
      "     0     0   18.36364    0   27   22.00000   18.36364  16.5%     -    0s\n",
      "     0     0   18.50000    0   26   22.00000   18.50000  15.9%     -    0s\n",
      "     0     0   18.50000    0   28   22.00000   18.50000  15.9%     -    0s\n",
      "     0     0   18.50000    0   23   22.00000   18.50000  15.9%     -    0s\n",
      "     0     0   18.50000    0   24   22.00000   18.50000  15.9%     -    0s\n",
      "     0     0   18.52941    0   29   22.00000   18.52941  15.8%     -    0s\n",
      "     0     0   18.53846    0   31   22.00000   18.53846  15.7%     -    0s\n",
      "     0     0   18.54098    0   33   22.00000   18.54098  15.7%     -    0s\n",
      "     0     0   18.54098    0   33   22.00000   18.54098  15.7%     -    0s\n",
      "     0     0   18.55556    0   28   22.00000   18.55556  15.7%     -    0s\n",
      "     0     0   18.55556    0   28   22.00000   18.55556  15.7%     -    0s\n",
      "     0     0   18.55556    0   24   22.00000   18.55556  15.7%     -    0s\n",
      "     0     0   18.55556    0   25   22.00000   18.55556  15.7%     -    0s\n",
      "     0     0   18.60000    0   19   22.00000   18.60000  15.5%     -    0s\n",
      "     0     0   18.60645    0   27   22.00000   18.60645  15.4%     -    0s\n",
      "     0     0   18.60800    0   27   22.00000   18.60800  15.4%     -    0s\n",
      "     0     0   18.60800    0   28   22.00000   18.60800  15.4%     -    0s\n",
      "     0     0   18.63673    0   28   22.00000   18.63673  15.3%     -    0s\n",
      "     0     0   18.63673    0   29   22.00000   18.63673  15.3%     -    0s\n",
      "     0     0   18.64762    0   26   22.00000   18.64762  15.2%     -    0s\n",
      "     0     0   18.64865    0   30   22.00000   18.64865  15.2%     -    0s\n",
      "     0     0   18.64865    0   30   22.00000   18.64865  15.2%     -    0s\n",
      "     0     0   18.65714    0   27   22.00000   18.65714  15.2%     -    0s\n",
      "     0     0   18.65714    0   27   22.00000   18.65714  15.2%     -    0s\n",
      "     0     0   18.65714    0   27   22.00000   18.65714  15.2%     -    0s\n",
      "     0     0   18.65714    0   27   22.00000   18.65714  15.2%     -    0s\n",
      "     0     0   19.00000    0    8   22.00000   19.00000  13.6%     -    0s\n",
      "     0     0   19.00000    0    8   22.00000   19.00000  13.6%     -    0s\n"
     ]
    },
    {
     "name": "stdout",
     "output_type": "stream",
     "text": [
      "     0     2   19.00000    0    8   22.00000   19.00000  13.6%     -    0s\n",
      "\n",
      "Cutting planes:\n",
      "  Gomory: 3\n",
      "  MIR: 18\n",
      "  Flow cover: 13\n",
      "  Inf proof: 1\n",
      "  RLT: 1\n",
      "  Relax-and-lift: 3\n",
      "\n",
      "Explored 50 nodes (2397 simplex iterations) in 0.59 seconds\n",
      "Thread count was 4 (of 4 available processors)\n",
      "\n",
      "Solution count 1: 22 \n",
      "\n",
      "Optimal solution found (tolerance 1.00e-04)\n",
      "Best objective 2.200000000000e+01, best bound 2.200000000000e+01, gap 0.0000%\n",
      "Start_time[0] 0\n",
      "Start_time[1] 0\n",
      "Start_time[2] 4\n",
      "Start_time[3] 3\n",
      "Start_time[4] 6\n",
      "Start_time[5] 9\n",
      "Start_time[6] 9\n",
      "Start_time[7] 13\n",
      "Start_time[8] 11\n",
      "Start_time[9] 18\n",
      "Start_time[10] 18\n",
      "Start_time[11] 22\n",
      "start [0.0, 0.0, 4.0, 3.0, 6.0, 9.0, 9.0, 13.0, 11.0, 18.0, 18.0, 22.0]\n",
      "finish [0.0, 3.0, 9.0, 4.0, 9.0, 11.0, 13.0, 18.0, 17.0, 22.0, 22.0, 22.0]\n"
     ]
    }
   ],
   "source": [
    "from gurobipy import *\n",
    "\n",
    "number_job = 12  # number_job, including the source and sink node\n",
    "processing_time = [0,3,5,1,3,2,4,5,6,4,4,0]\n",
    "resource_consumption = [4,2,3,3,1,1,2,3,1,1,1,4]\n",
    "Job_successors = [[1,2,3],[4],[5,7],[5],[6],[7,8,9],[10],[10],[11],[11],[11],[]]\n",
    "\n",
    "\n",
    "# Initial the gurobi model\n",
    "m = Model()\n",
    "\n",
    "#add variables \n",
    "S = m.addVars(number_job,vtype=GRB.INTEGER, name='Start_time')\n",
    "z = m.addVars(number_job,number_job,vtype=GRB.BINARY, name='z')\n",
    "phi = m.addVars(number_job,number_job, lb = 0 , name='phi')\n",
    "dummy1 = m.addVars(number_job,number_job, lb = 0, name='dummy1')\n",
    "dummy2 = m.addVars(number_job,number_job, lb = 0, name='dummy2')\n",
    "\n",
    "\n",
    "# Set the obj which means the minmize the makespan\n",
    "m.setObjective(S[number_job-1],GRB.MINIMIZE)\n",
    "\n",
    "# add constraints\n",
    "for i in range(number_job-1):\n",
    "    for j in range(i+1, number_job):\n",
    "        m.addConstr(z[i,j] + z[j,i] <= 1)\n",
    "\n",
    "for i in range(number_job):\n",
    "    for j in range(number_job):\n",
    "        for h in range(number_job):\n",
    "            if((i !=j) and (i != h) and (j != h)):\n",
    "                m.addConstr(z[i,j] + z[j,h] - z[i,h] <= 1)\n",
    "\n",
    "\n",
    "for i in range(number_job):\n",
    "    if(len(Job_successors[i]) != 0):\n",
    "        for j in Job_successors[i]:\n",
    "            m.addConstr(z[i,j] == 1)\n",
    "\n",
    "\n",
    "\n",
    "for i in range(number_job):\n",
    "    for j in range(number_job):\n",
    "        if(i != j):\n",
    "            m.addConstr(S[j] - S[i] + (1-z[i,j])*1000 >= processing_time[i])  # here 1000 means big M in the MIP.\n",
    "\n",
    "\n",
    "for i in range(number_job-1):\n",
    "    m.addConstr(quicksum(phi[i,j] for j in range(number_job) if j != i) == resource_consumption[i])\n",
    "\n",
    "for j in range(1, number_job):\n",
    "    m.addConstr(quicksum(phi[i,j] for i in range(number_job) if i != j) == resource_consumption[j])    \n",
    "\n",
    "for i in range(number_job-1):\n",
    "    for j in range(1, number_job):\n",
    "        if(i != j ):\n",
    "            m.addConstr(dummy1[i,j] == min_(resource_consumption[j], resource_consumption[i]))\n",
    "            m.addConstr(phi[i,j] <= dummy1[i,j])\n",
    "\n",
    "\n",
    "for i in range( number_job):\n",
    "    for j in range(number_job):\n",
    "        if(i != j):\n",
    "            m.addConstr(dummy2[i,j] == min_(resource_consumption[i], resource_consumption[j])) \n",
    "            m.addConstr(phi[i,j] <= dummy2[i,j] * z[i,j])\n",
    "        \n",
    "\n",
    "#    m.write('lnear_model11.lp')\n",
    "    m.optimize()\n",
    "\n",
    "#    Get the solution\n",
    "    output_dict={}\n",
    "    vars =  m.getVars()\n",
    "    for i in range(number_job):\n",
    "        print('%s %g' % (vars[i].varName, vars[i].x))\n",
    "        output_dict[i]=vars[i].x\n",
    "\n",
    "    start=list(output_dict.values())\n",
    "    finish=[]\n",
    "    count=0\n",
    "    for iteration in output_dict.values():\n",
    "        finish.append(iteration+processing_time[count])\n",
    "        count+=1\n",
    "\n",
    "    # print('Obj: %g' % m.objVal)\n",
    "    print('start',start)\n",
    "    print(\"finish\",finish)"
   ]
  },
  {
   "cell_type": "code",
   "execution_count": 24,
   "metadata": {},
   "outputs": [
    {
     "data": {
      "application/vnd.plotly.v1+json": {
       "config": {
        "plotlyServerURL": "https://plot.ly"
       },
       "data": [
        {
         "alignmentgroup": "True",
         "base": [
          "2020-01-01",
          "2020-01-05",
          "2020-01-04",
          "2020-01-07",
          "2020-01-10",
          "2020-01-10",
          "2020-01-14",
          "2020-01-12",
          "2020-01-19",
          "2020-01-19"
         ],
         "hovertemplate": "Start=%{base}<br>Finish=%{x}<br>Task=%{y}<extra></extra>",
         "legendgroup": "",
         "marker": {
          "color": "#636efa"
         },
         "name": "",
         "offsetgroup": "",
         "orientation": "h",
         "showlegend": false,
         "textposition": "auto",
         "type": "bar",
         "x": [
          259200000,
          432000000,
          86400000,
          259200000,
          172800000,
          345600000,
          432000000,
          518400000,
          345600000,
          345600000
         ],
         "xaxis": "x",
         "y": [
          "Job1",
          "Job2",
          "Job3",
          "Job4",
          "Job5",
          "Job6",
          "Job7",
          "Job8",
          "Job9",
          "Job10"
         ],
         "yaxis": "y"
        }
       ],
       "layout": {
        "barmode": "overlay",
        "legend": {
         "tracegroupgap": 0
        },
        "margin": {
         "t": 60
        },
        "template": {
         "data": {
          "bar": [
           {
            "error_x": {
             "color": "#2a3f5f"
            },
            "error_y": {
             "color": "#2a3f5f"
            },
            "marker": {
             "line": {
              "color": "#E5ECF6",
              "width": 0.5
             }
            },
            "type": "bar"
           }
          ],
          "barpolar": [
           {
            "marker": {
             "line": {
              "color": "#E5ECF6",
              "width": 0.5
             }
            },
            "type": "barpolar"
           }
          ],
          "carpet": [
           {
            "aaxis": {
             "endlinecolor": "#2a3f5f",
             "gridcolor": "white",
             "linecolor": "white",
             "minorgridcolor": "white",
             "startlinecolor": "#2a3f5f"
            },
            "baxis": {
             "endlinecolor": "#2a3f5f",
             "gridcolor": "white",
             "linecolor": "white",
             "minorgridcolor": "white",
             "startlinecolor": "#2a3f5f"
            },
            "type": "carpet"
           }
          ],
          "choropleth": [
           {
            "colorbar": {
             "outlinewidth": 0,
             "ticks": ""
            },
            "type": "choropleth"
           }
          ],
          "contour": [
           {
            "colorbar": {
             "outlinewidth": 0,
             "ticks": ""
            },
            "colorscale": [
             [
              0,
              "#0d0887"
             ],
             [
              0.1111111111111111,
              "#46039f"
             ],
             [
              0.2222222222222222,
              "#7201a8"
             ],
             [
              0.3333333333333333,
              "#9c179e"
             ],
             [
              0.4444444444444444,
              "#bd3786"
             ],
             [
              0.5555555555555556,
              "#d8576b"
             ],
             [
              0.6666666666666666,
              "#ed7953"
             ],
             [
              0.7777777777777778,
              "#fb9f3a"
             ],
             [
              0.8888888888888888,
              "#fdca26"
             ],
             [
              1,
              "#f0f921"
             ]
            ],
            "type": "contour"
           }
          ],
          "contourcarpet": [
           {
            "colorbar": {
             "outlinewidth": 0,
             "ticks": ""
            },
            "type": "contourcarpet"
           }
          ],
          "heatmap": [
           {
            "colorbar": {
             "outlinewidth": 0,
             "ticks": ""
            },
            "colorscale": [
             [
              0,
              "#0d0887"
             ],
             [
              0.1111111111111111,
              "#46039f"
             ],
             [
              0.2222222222222222,
              "#7201a8"
             ],
             [
              0.3333333333333333,
              "#9c179e"
             ],
             [
              0.4444444444444444,
              "#bd3786"
             ],
             [
              0.5555555555555556,
              "#d8576b"
             ],
             [
              0.6666666666666666,
              "#ed7953"
             ],
             [
              0.7777777777777778,
              "#fb9f3a"
             ],
             [
              0.8888888888888888,
              "#fdca26"
             ],
             [
              1,
              "#f0f921"
             ]
            ],
            "type": "heatmap"
           }
          ],
          "heatmapgl": [
           {
            "colorbar": {
             "outlinewidth": 0,
             "ticks": ""
            },
            "colorscale": [
             [
              0,
              "#0d0887"
             ],
             [
              0.1111111111111111,
              "#46039f"
             ],
             [
              0.2222222222222222,
              "#7201a8"
             ],
             [
              0.3333333333333333,
              "#9c179e"
             ],
             [
              0.4444444444444444,
              "#bd3786"
             ],
             [
              0.5555555555555556,
              "#d8576b"
             ],
             [
              0.6666666666666666,
              "#ed7953"
             ],
             [
              0.7777777777777778,
              "#fb9f3a"
             ],
             [
              0.8888888888888888,
              "#fdca26"
             ],
             [
              1,
              "#f0f921"
             ]
            ],
            "type": "heatmapgl"
           }
          ],
          "histogram": [
           {
            "marker": {
             "colorbar": {
              "outlinewidth": 0,
              "ticks": ""
             }
            },
            "type": "histogram"
           }
          ],
          "histogram2d": [
           {
            "colorbar": {
             "outlinewidth": 0,
             "ticks": ""
            },
            "colorscale": [
             [
              0,
              "#0d0887"
             ],
             [
              0.1111111111111111,
              "#46039f"
             ],
             [
              0.2222222222222222,
              "#7201a8"
             ],
             [
              0.3333333333333333,
              "#9c179e"
             ],
             [
              0.4444444444444444,
              "#bd3786"
             ],
             [
              0.5555555555555556,
              "#d8576b"
             ],
             [
              0.6666666666666666,
              "#ed7953"
             ],
             [
              0.7777777777777778,
              "#fb9f3a"
             ],
             [
              0.8888888888888888,
              "#fdca26"
             ],
             [
              1,
              "#f0f921"
             ]
            ],
            "type": "histogram2d"
           }
          ],
          "histogram2dcontour": [
           {
            "colorbar": {
             "outlinewidth": 0,
             "ticks": ""
            },
            "colorscale": [
             [
              0,
              "#0d0887"
             ],
             [
              0.1111111111111111,
              "#46039f"
             ],
             [
              0.2222222222222222,
              "#7201a8"
             ],
             [
              0.3333333333333333,
              "#9c179e"
             ],
             [
              0.4444444444444444,
              "#bd3786"
             ],
             [
              0.5555555555555556,
              "#d8576b"
             ],
             [
              0.6666666666666666,
              "#ed7953"
             ],
             [
              0.7777777777777778,
              "#fb9f3a"
             ],
             [
              0.8888888888888888,
              "#fdca26"
             ],
             [
              1,
              "#f0f921"
             ]
            ],
            "type": "histogram2dcontour"
           }
          ],
          "mesh3d": [
           {
            "colorbar": {
             "outlinewidth": 0,
             "ticks": ""
            },
            "type": "mesh3d"
           }
          ],
          "parcoords": [
           {
            "line": {
             "colorbar": {
              "outlinewidth": 0,
              "ticks": ""
             }
            },
            "type": "parcoords"
           }
          ],
          "pie": [
           {
            "automargin": true,
            "type": "pie"
           }
          ],
          "scatter": [
           {
            "marker": {
             "colorbar": {
              "outlinewidth": 0,
              "ticks": ""
             }
            },
            "type": "scatter"
           }
          ],
          "scatter3d": [
           {
            "line": {
             "colorbar": {
              "outlinewidth": 0,
              "ticks": ""
             }
            },
            "marker": {
             "colorbar": {
              "outlinewidth": 0,
              "ticks": ""
             }
            },
            "type": "scatter3d"
           }
          ],
          "scattercarpet": [
           {
            "marker": {
             "colorbar": {
              "outlinewidth": 0,
              "ticks": ""
             }
            },
            "type": "scattercarpet"
           }
          ],
          "scattergeo": [
           {
            "marker": {
             "colorbar": {
              "outlinewidth": 0,
              "ticks": ""
             }
            },
            "type": "scattergeo"
           }
          ],
          "scattergl": [
           {
            "marker": {
             "colorbar": {
              "outlinewidth": 0,
              "ticks": ""
             }
            },
            "type": "scattergl"
           }
          ],
          "scattermapbox": [
           {
            "marker": {
             "colorbar": {
              "outlinewidth": 0,
              "ticks": ""
             }
            },
            "type": "scattermapbox"
           }
          ],
          "scatterpolar": [
           {
            "marker": {
             "colorbar": {
              "outlinewidth": 0,
              "ticks": ""
             }
            },
            "type": "scatterpolar"
           }
          ],
          "scatterpolargl": [
           {
            "marker": {
             "colorbar": {
              "outlinewidth": 0,
              "ticks": ""
             }
            },
            "type": "scatterpolargl"
           }
          ],
          "scatterternary": [
           {
            "marker": {
             "colorbar": {
              "outlinewidth": 0,
              "ticks": ""
             }
            },
            "type": "scatterternary"
           }
          ],
          "surface": [
           {
            "colorbar": {
             "outlinewidth": 0,
             "ticks": ""
            },
            "colorscale": [
             [
              0,
              "#0d0887"
             ],
             [
              0.1111111111111111,
              "#46039f"
             ],
             [
              0.2222222222222222,
              "#7201a8"
             ],
             [
              0.3333333333333333,
              "#9c179e"
             ],
             [
              0.4444444444444444,
              "#bd3786"
             ],
             [
              0.5555555555555556,
              "#d8576b"
             ],
             [
              0.6666666666666666,
              "#ed7953"
             ],
             [
              0.7777777777777778,
              "#fb9f3a"
             ],
             [
              0.8888888888888888,
              "#fdca26"
             ],
             [
              1,
              "#f0f921"
             ]
            ],
            "type": "surface"
           }
          ],
          "table": [
           {
            "cells": {
             "fill": {
              "color": "#EBF0F8"
             },
             "line": {
              "color": "white"
             }
            },
            "header": {
             "fill": {
              "color": "#C8D4E3"
             },
             "line": {
              "color": "white"
             }
            },
            "type": "table"
           }
          ]
         },
         "layout": {
          "annotationdefaults": {
           "arrowcolor": "#2a3f5f",
           "arrowhead": 0,
           "arrowwidth": 1
          },
          "coloraxis": {
           "colorbar": {
            "outlinewidth": 0,
            "ticks": ""
           }
          },
          "colorscale": {
           "diverging": [
            [
             0,
             "#8e0152"
            ],
            [
             0.1,
             "#c51b7d"
            ],
            [
             0.2,
             "#de77ae"
            ],
            [
             0.3,
             "#f1b6da"
            ],
            [
             0.4,
             "#fde0ef"
            ],
            [
             0.5,
             "#f7f7f7"
            ],
            [
             0.6,
             "#e6f5d0"
            ],
            [
             0.7,
             "#b8e186"
            ],
            [
             0.8,
             "#7fbc41"
            ],
            [
             0.9,
             "#4d9221"
            ],
            [
             1,
             "#276419"
            ]
           ],
           "sequential": [
            [
             0,
             "#0d0887"
            ],
            [
             0.1111111111111111,
             "#46039f"
            ],
            [
             0.2222222222222222,
             "#7201a8"
            ],
            [
             0.3333333333333333,
             "#9c179e"
            ],
            [
             0.4444444444444444,
             "#bd3786"
            ],
            [
             0.5555555555555556,
             "#d8576b"
            ],
            [
             0.6666666666666666,
             "#ed7953"
            ],
            [
             0.7777777777777778,
             "#fb9f3a"
            ],
            [
             0.8888888888888888,
             "#fdca26"
            ],
            [
             1,
             "#f0f921"
            ]
           ],
           "sequentialminus": [
            [
             0,
             "#0d0887"
            ],
            [
             0.1111111111111111,
             "#46039f"
            ],
            [
             0.2222222222222222,
             "#7201a8"
            ],
            [
             0.3333333333333333,
             "#9c179e"
            ],
            [
             0.4444444444444444,
             "#bd3786"
            ],
            [
             0.5555555555555556,
             "#d8576b"
            ],
            [
             0.6666666666666666,
             "#ed7953"
            ],
            [
             0.7777777777777778,
             "#fb9f3a"
            ],
            [
             0.8888888888888888,
             "#fdca26"
            ],
            [
             1,
             "#f0f921"
            ]
           ]
          },
          "colorway": [
           "#636efa",
           "#EF553B",
           "#00cc96",
           "#ab63fa",
           "#FFA15A",
           "#19d3f3",
           "#FF6692",
           "#B6E880",
           "#FF97FF",
           "#FECB52"
          ],
          "font": {
           "color": "#2a3f5f"
          },
          "geo": {
           "bgcolor": "white",
           "lakecolor": "white",
           "landcolor": "#E5ECF6",
           "showlakes": true,
           "showland": true,
           "subunitcolor": "white"
          },
          "hoverlabel": {
           "align": "left"
          },
          "hovermode": "closest",
          "mapbox": {
           "style": "light"
          },
          "paper_bgcolor": "white",
          "plot_bgcolor": "#E5ECF6",
          "polar": {
           "angularaxis": {
            "gridcolor": "white",
            "linecolor": "white",
            "ticks": ""
           },
           "bgcolor": "#E5ECF6",
           "radialaxis": {
            "gridcolor": "white",
            "linecolor": "white",
            "ticks": ""
           }
          },
          "scene": {
           "xaxis": {
            "backgroundcolor": "#E5ECF6",
            "gridcolor": "white",
            "gridwidth": 2,
            "linecolor": "white",
            "showbackground": true,
            "ticks": "",
            "zerolinecolor": "white"
           },
           "yaxis": {
            "backgroundcolor": "#E5ECF6",
            "gridcolor": "white",
            "gridwidth": 2,
            "linecolor": "white",
            "showbackground": true,
            "ticks": "",
            "zerolinecolor": "white"
           },
           "zaxis": {
            "backgroundcolor": "#E5ECF6",
            "gridcolor": "white",
            "gridwidth": 2,
            "linecolor": "white",
            "showbackground": true,
            "ticks": "",
            "zerolinecolor": "white"
           }
          },
          "shapedefaults": {
           "line": {
            "color": "#2a3f5f"
           }
          },
          "ternary": {
           "aaxis": {
            "gridcolor": "white",
            "linecolor": "white",
            "ticks": ""
           },
           "baxis": {
            "gridcolor": "white",
            "linecolor": "white",
            "ticks": ""
           },
           "bgcolor": "#E5ECF6",
           "caxis": {
            "gridcolor": "white",
            "linecolor": "white",
            "ticks": ""
           }
          },
          "title": {
           "x": 0.05
          },
          "xaxis": {
           "automargin": true,
           "gridcolor": "white",
           "linecolor": "white",
           "ticks": "",
           "title": {
            "standoff": 15
           },
           "zerolinecolor": "white",
           "zerolinewidth": 2
          },
          "yaxis": {
           "automargin": true,
           "gridcolor": "white",
           "linecolor": "white",
           "ticks": "",
           "title": {
            "standoff": 15
           },
           "zerolinecolor": "white",
           "zerolinewidth": 2
          }
         }
        },
        "xaxis": {
         "anchor": "y",
         "domain": [
          0,
          1
         ],
         "type": "date"
        },
        "yaxis": {
         "anchor": "x",
         "domain": [
          0,
          1
         ],
         "title": {
          "text": "Task"
         }
        }
       }
      },
      "text/html": [
       "<div>\n",
       "        \n",
       "        \n",
       "            <div id=\"210ba037-9004-4083-b833-d6222c3001ad\" class=\"plotly-graph-div\" style=\"height:525px; width:100%;\"></div>\n",
       "            <script type=\"text/javascript\">\n",
       "                require([\"plotly\"], function(Plotly) {\n",
       "                    window.PLOTLYENV=window.PLOTLYENV || {};\n",
       "                    \n",
       "                if (document.getElementById(\"210ba037-9004-4083-b833-d6222c3001ad\")) {\n",
       "                    Plotly.newPlot(\n",
       "                        '210ba037-9004-4083-b833-d6222c3001ad',\n",
       "                        [{\"alignmentgroup\": \"True\", \"base\": [\"2020-01-01\", \"2020-01-05\", \"2020-01-04\", \"2020-01-07\", \"2020-01-10\", \"2020-01-10\", \"2020-01-14\", \"2020-01-12\", \"2020-01-19\", \"2020-01-19\"], \"hovertemplate\": \"Start=%{base}<br>Finish=%{x}<br>Task=%{y}<extra></extra>\", \"legendgroup\": \"\", \"marker\": {\"color\": \"#636efa\"}, \"name\": \"\", \"offsetgroup\": \"\", \"orientation\": \"h\", \"showlegend\": false, \"textposition\": \"auto\", \"type\": \"bar\", \"x\": [259200000.0, 432000000.0, 86400000.0, 259200000.0, 172800000.0, 345600000.0, 432000000.0, 518400000.0, 345600000.0, 345600000.0], \"xaxis\": \"x\", \"y\": [\"Job1\", \"Job2\", \"Job3\", \"Job4\", \"Job5\", \"Job6\", \"Job7\", \"Job8\", \"Job9\", \"Job10\"], \"yaxis\": \"y\"}],\n",
       "                        {\"barmode\": \"overlay\", \"legend\": {\"tracegroupgap\": 0}, \"margin\": {\"t\": 60}, \"template\": {\"data\": {\"bar\": [{\"error_x\": {\"color\": \"#2a3f5f\"}, \"error_y\": {\"color\": \"#2a3f5f\"}, \"marker\": {\"line\": {\"color\": \"#E5ECF6\", \"width\": 0.5}}, \"type\": \"bar\"}], \"barpolar\": [{\"marker\": {\"line\": {\"color\": \"#E5ECF6\", \"width\": 0.5}}, \"type\": \"barpolar\"}], \"carpet\": [{\"aaxis\": {\"endlinecolor\": \"#2a3f5f\", \"gridcolor\": \"white\", \"linecolor\": \"white\", \"minorgridcolor\": \"white\", \"startlinecolor\": \"#2a3f5f\"}, \"baxis\": {\"endlinecolor\": \"#2a3f5f\", \"gridcolor\": \"white\", \"linecolor\": \"white\", \"minorgridcolor\": \"white\", \"startlinecolor\": \"#2a3f5f\"}, \"type\": \"carpet\"}], \"choropleth\": [{\"colorbar\": {\"outlinewidth\": 0, \"ticks\": \"\"}, \"type\": \"choropleth\"}], \"contour\": [{\"colorbar\": {\"outlinewidth\": 0, \"ticks\": \"\"}, \"colorscale\": [[0.0, \"#0d0887\"], [0.1111111111111111, \"#46039f\"], [0.2222222222222222, \"#7201a8\"], [0.3333333333333333, \"#9c179e\"], [0.4444444444444444, \"#bd3786\"], [0.5555555555555556, \"#d8576b\"], [0.6666666666666666, \"#ed7953\"], [0.7777777777777778, \"#fb9f3a\"], [0.8888888888888888, \"#fdca26\"], [1.0, \"#f0f921\"]], \"type\": \"contour\"}], \"contourcarpet\": [{\"colorbar\": {\"outlinewidth\": 0, \"ticks\": \"\"}, \"type\": \"contourcarpet\"}], \"heatmap\": [{\"colorbar\": {\"outlinewidth\": 0, \"ticks\": \"\"}, \"colorscale\": [[0.0, \"#0d0887\"], [0.1111111111111111, \"#46039f\"], [0.2222222222222222, \"#7201a8\"], [0.3333333333333333, \"#9c179e\"], [0.4444444444444444, \"#bd3786\"], [0.5555555555555556, \"#d8576b\"], [0.6666666666666666, \"#ed7953\"], [0.7777777777777778, \"#fb9f3a\"], [0.8888888888888888, \"#fdca26\"], [1.0, \"#f0f921\"]], \"type\": \"heatmap\"}], \"heatmapgl\": [{\"colorbar\": {\"outlinewidth\": 0, \"ticks\": \"\"}, \"colorscale\": [[0.0, \"#0d0887\"], [0.1111111111111111, \"#46039f\"], [0.2222222222222222, \"#7201a8\"], [0.3333333333333333, \"#9c179e\"], [0.4444444444444444, \"#bd3786\"], [0.5555555555555556, \"#d8576b\"], [0.6666666666666666, \"#ed7953\"], [0.7777777777777778, \"#fb9f3a\"], [0.8888888888888888, \"#fdca26\"], [1.0, \"#f0f921\"]], \"type\": \"heatmapgl\"}], \"histogram\": [{\"marker\": {\"colorbar\": {\"outlinewidth\": 0, \"ticks\": \"\"}}, \"type\": \"histogram\"}], \"histogram2d\": [{\"colorbar\": {\"outlinewidth\": 0, \"ticks\": \"\"}, \"colorscale\": [[0.0, \"#0d0887\"], [0.1111111111111111, \"#46039f\"], [0.2222222222222222, \"#7201a8\"], [0.3333333333333333, \"#9c179e\"], [0.4444444444444444, \"#bd3786\"], [0.5555555555555556, \"#d8576b\"], [0.6666666666666666, \"#ed7953\"], [0.7777777777777778, \"#fb9f3a\"], [0.8888888888888888, \"#fdca26\"], [1.0, \"#f0f921\"]], \"type\": \"histogram2d\"}], \"histogram2dcontour\": [{\"colorbar\": {\"outlinewidth\": 0, \"ticks\": \"\"}, \"colorscale\": [[0.0, \"#0d0887\"], [0.1111111111111111, \"#46039f\"], [0.2222222222222222, \"#7201a8\"], [0.3333333333333333, \"#9c179e\"], [0.4444444444444444, \"#bd3786\"], [0.5555555555555556, \"#d8576b\"], [0.6666666666666666, \"#ed7953\"], [0.7777777777777778, \"#fb9f3a\"], [0.8888888888888888, \"#fdca26\"], [1.0, \"#f0f921\"]], \"type\": \"histogram2dcontour\"}], \"mesh3d\": [{\"colorbar\": {\"outlinewidth\": 0, \"ticks\": \"\"}, \"type\": \"mesh3d\"}], \"parcoords\": [{\"line\": {\"colorbar\": {\"outlinewidth\": 0, \"ticks\": \"\"}}, \"type\": \"parcoords\"}], \"pie\": [{\"automargin\": true, \"type\": \"pie\"}], \"scatter\": [{\"marker\": {\"colorbar\": {\"outlinewidth\": 0, \"ticks\": \"\"}}, \"type\": \"scatter\"}], \"scatter3d\": [{\"line\": {\"colorbar\": {\"outlinewidth\": 0, \"ticks\": \"\"}}, \"marker\": {\"colorbar\": {\"outlinewidth\": 0, \"ticks\": \"\"}}, \"type\": \"scatter3d\"}], \"scattercarpet\": [{\"marker\": {\"colorbar\": {\"outlinewidth\": 0, \"ticks\": \"\"}}, \"type\": \"scattercarpet\"}], \"scattergeo\": [{\"marker\": {\"colorbar\": {\"outlinewidth\": 0, \"ticks\": \"\"}}, \"type\": \"scattergeo\"}], \"scattergl\": [{\"marker\": {\"colorbar\": {\"outlinewidth\": 0, \"ticks\": \"\"}}, \"type\": \"scattergl\"}], \"scattermapbox\": [{\"marker\": {\"colorbar\": {\"outlinewidth\": 0, \"ticks\": \"\"}}, \"type\": \"scattermapbox\"}], \"scatterpolar\": [{\"marker\": {\"colorbar\": {\"outlinewidth\": 0, \"ticks\": \"\"}}, \"type\": \"scatterpolar\"}], \"scatterpolargl\": [{\"marker\": {\"colorbar\": {\"outlinewidth\": 0, \"ticks\": \"\"}}, \"type\": \"scatterpolargl\"}], \"scatterternary\": [{\"marker\": {\"colorbar\": {\"outlinewidth\": 0, \"ticks\": \"\"}}, \"type\": \"scatterternary\"}], \"surface\": [{\"colorbar\": {\"outlinewidth\": 0, \"ticks\": \"\"}, \"colorscale\": [[0.0, \"#0d0887\"], [0.1111111111111111, \"#46039f\"], [0.2222222222222222, \"#7201a8\"], [0.3333333333333333, \"#9c179e\"], [0.4444444444444444, \"#bd3786\"], [0.5555555555555556, \"#d8576b\"], [0.6666666666666666, \"#ed7953\"], [0.7777777777777778, \"#fb9f3a\"], [0.8888888888888888, \"#fdca26\"], [1.0, \"#f0f921\"]], \"type\": \"surface\"}], \"table\": [{\"cells\": {\"fill\": {\"color\": \"#EBF0F8\"}, \"line\": {\"color\": \"white\"}}, \"header\": {\"fill\": {\"color\": \"#C8D4E3\"}, \"line\": {\"color\": \"white\"}}, \"type\": \"table\"}]}, \"layout\": {\"annotationdefaults\": {\"arrowcolor\": \"#2a3f5f\", \"arrowhead\": 0, \"arrowwidth\": 1}, \"coloraxis\": {\"colorbar\": {\"outlinewidth\": 0, \"ticks\": \"\"}}, \"colorscale\": {\"diverging\": [[0, \"#8e0152\"], [0.1, \"#c51b7d\"], [0.2, \"#de77ae\"], [0.3, \"#f1b6da\"], [0.4, \"#fde0ef\"], [0.5, \"#f7f7f7\"], [0.6, \"#e6f5d0\"], [0.7, \"#b8e186\"], [0.8, \"#7fbc41\"], [0.9, \"#4d9221\"], [1, \"#276419\"]], \"sequential\": [[0.0, \"#0d0887\"], [0.1111111111111111, \"#46039f\"], [0.2222222222222222, \"#7201a8\"], [0.3333333333333333, \"#9c179e\"], [0.4444444444444444, \"#bd3786\"], [0.5555555555555556, \"#d8576b\"], [0.6666666666666666, \"#ed7953\"], [0.7777777777777778, \"#fb9f3a\"], [0.8888888888888888, \"#fdca26\"], [1.0, \"#f0f921\"]], \"sequentialminus\": [[0.0, \"#0d0887\"], [0.1111111111111111, \"#46039f\"], [0.2222222222222222, \"#7201a8\"], [0.3333333333333333, \"#9c179e\"], [0.4444444444444444, \"#bd3786\"], [0.5555555555555556, \"#d8576b\"], [0.6666666666666666, \"#ed7953\"], [0.7777777777777778, \"#fb9f3a\"], [0.8888888888888888, \"#fdca26\"], [1.0, \"#f0f921\"]]}, \"colorway\": [\"#636efa\", \"#EF553B\", \"#00cc96\", \"#ab63fa\", \"#FFA15A\", \"#19d3f3\", \"#FF6692\", \"#B6E880\", \"#FF97FF\", \"#FECB52\"], \"font\": {\"color\": \"#2a3f5f\"}, \"geo\": {\"bgcolor\": \"white\", \"lakecolor\": \"white\", \"landcolor\": \"#E5ECF6\", \"showlakes\": true, \"showland\": true, \"subunitcolor\": \"white\"}, \"hoverlabel\": {\"align\": \"left\"}, \"hovermode\": \"closest\", \"mapbox\": {\"style\": \"light\"}, \"paper_bgcolor\": \"white\", \"plot_bgcolor\": \"#E5ECF6\", \"polar\": {\"angularaxis\": {\"gridcolor\": \"white\", \"linecolor\": \"white\", \"ticks\": \"\"}, \"bgcolor\": \"#E5ECF6\", \"radialaxis\": {\"gridcolor\": \"white\", \"linecolor\": \"white\", \"ticks\": \"\"}}, \"scene\": {\"xaxis\": {\"backgroundcolor\": \"#E5ECF6\", \"gridcolor\": \"white\", \"gridwidth\": 2, \"linecolor\": \"white\", \"showbackground\": true, \"ticks\": \"\", \"zerolinecolor\": \"white\"}, \"yaxis\": {\"backgroundcolor\": \"#E5ECF6\", \"gridcolor\": \"white\", \"gridwidth\": 2, \"linecolor\": \"white\", \"showbackground\": true, \"ticks\": \"\", \"zerolinecolor\": \"white\"}, \"zaxis\": {\"backgroundcolor\": \"#E5ECF6\", \"gridcolor\": \"white\", \"gridwidth\": 2, \"linecolor\": \"white\", \"showbackground\": true, \"ticks\": \"\", \"zerolinecolor\": \"white\"}}, \"shapedefaults\": {\"line\": {\"color\": \"#2a3f5f\"}}, \"ternary\": {\"aaxis\": {\"gridcolor\": \"white\", \"linecolor\": \"white\", \"ticks\": \"\"}, \"baxis\": {\"gridcolor\": \"white\", \"linecolor\": \"white\", \"ticks\": \"\"}, \"bgcolor\": \"#E5ECF6\", \"caxis\": {\"gridcolor\": \"white\", \"linecolor\": \"white\", \"ticks\": \"\"}}, \"title\": {\"x\": 0.05}, \"xaxis\": {\"automargin\": true, \"gridcolor\": \"white\", \"linecolor\": \"white\", \"ticks\": \"\", \"title\": {\"standoff\": 15}, \"zerolinecolor\": \"white\", \"zerolinewidth\": 2}, \"yaxis\": {\"automargin\": true, \"gridcolor\": \"white\", \"linecolor\": \"white\", \"ticks\": \"\", \"title\": {\"standoff\": 15}, \"zerolinecolor\": \"white\", \"zerolinewidth\": 2}}}, \"xaxis\": {\"anchor\": \"y\", \"domain\": [0.0, 1.0], \"type\": \"date\"}, \"yaxis\": {\"anchor\": \"x\", \"domain\": [0.0, 1.0], \"title\": {\"text\": \"Task\"}}},\n",
       "                        {\"responsive\": true}\n",
       "                    ).then(function(){\n",
       "                            \n",
       "var gd = document.getElementById('210ba037-9004-4083-b833-d6222c3001ad');\n",
       "var x = new MutationObserver(function (mutations, observer) {{\n",
       "        var display = window.getComputedStyle(gd).display;\n",
       "        if (!display || display === 'none') {{\n",
       "            console.log([gd, 'removed!']);\n",
       "            Plotly.purge(gd);\n",
       "            observer.disconnect();\n",
       "        }}\n",
       "}});\n",
       "\n",
       "// Listen for the removal of the full notebook cells\n",
       "var notebookContainer = gd.closest('#notebook-container');\n",
       "if (notebookContainer) {{\n",
       "    x.observe(notebookContainer, {childList: true});\n",
       "}}\n",
       "\n",
       "// Listen for the clearing of the current output cell\n",
       "var outputEl = gd.closest('.output');\n",
       "if (outputEl) {{\n",
       "    x.observe(outputEl, {childList: true});\n",
       "}}\n",
       "\n",
       "                        })\n",
       "                };\n",
       "                });\n",
       "            </script>\n",
       "        </div>"
      ]
     },
     "metadata": {},
     "output_type": "display_data"
    }
   ],
   "source": [
    "from datetime import datetime  \n",
    "from datetime import timedelta\n",
    "\n",
    "import plotly.express as px\n",
    "import pandas as pd\n",
    "\n",
    "# organize the data (absolute date time) to plotly\n",
    "# suppose we use 2020-01-01 as the baseline time\n",
    "start_date=[]\n",
    "finish_date =[]\n",
    "\n",
    "start_date_base = datetime.strptime('2020-01-01','%Y-%m-%d')\n",
    "\n",
    "for i in range(number_job):\n",
    "    start_date.append((start_date_base + timedelta(days=start[i])).strftime('%Y-%m-%d'))\n",
    "    finish_date.append((start_date_base + timedelta(days=finish[i])).strftime('%Y-%m-%d'))\n",
    "\n",
    "row_list = []\n",
    "for i in range(1, number_job-1):\n",
    "    dict1 = dict(Task = \"Job\"+str(i), Start = start_date[i], Finish = finish_date[i])\n",
    "    row_list.append(dict1)\n",
    "\n",
    "df = pd.DataFrame(row_list)\n",
    "\n",
    "fig = px.timeline(df, x_start=\"Start\", x_end=\"Finish\", y=\"Task\")\n",
    "# fig.update_yaxes(autorange=\"reversed\") # otherwise tasks are listed from the bottom up\n",
    "fig.show()"
   ]
  },
  {
   "cell_type": "code",
   "execution_count": null,
   "metadata": {
    "jupyter": {
     "source_hidden": true
    }
   },
   "outputs": [],
   "source": []
  },
  {
   "cell_type": "code",
   "execution_count": null,
   "metadata": {},
   "outputs": [],
   "source": []
  },
  {
   "cell_type": "code",
   "execution_count": null,
   "metadata": {},
   "outputs": [],
   "source": []
  },
  {
   "cell_type": "code",
   "execution_count": null,
   "metadata": {},
   "outputs": [],
   "source": []
  },
  {
   "cell_type": "code",
   "execution_count": null,
   "metadata": {},
   "outputs": [],
   "source": []
  },
  {
   "cell_type": "code",
   "execution_count": null,
   "metadata": {},
   "outputs": [],
   "source": []
  },
  {
   "cell_type": "code",
   "execution_count": null,
   "metadata": {},
   "outputs": [],
   "source": []
  },
  {
   "cell_type": "code",
   "execution_count": null,
   "metadata": {},
   "outputs": [],
   "source": []
  },
  {
   "cell_type": "code",
   "execution_count": null,
   "metadata": {},
   "outputs": [],
   "source": []
  },
  {
   "cell_type": "code",
   "execution_count": null,
   "metadata": {},
   "outputs": [],
   "source": []
  },
  {
   "cell_type": "code",
   "execution_count": null,
   "metadata": {},
   "outputs": [],
   "source": []
  },
  {
   "cell_type": "code",
   "execution_count": null,
   "metadata": {},
   "outputs": [],
   "source": []
  },
  {
   "cell_type": "code",
   "execution_count": null,
   "metadata": {},
   "outputs": [],
   "source": []
  },
  {
   "cell_type": "code",
   "execution_count": null,
   "metadata": {},
   "outputs": [],
   "source": []
  },
  {
   "cell_type": "code",
   "execution_count": null,
   "metadata": {},
   "outputs": [],
   "source": []
  },
  {
   "cell_type": "code",
   "execution_count": null,
   "metadata": {},
   "outputs": [],
   "source": [
    "\n"
   ]
  },
  {
   "cell_type": "code",
   "execution_count": null,
   "metadata": {},
   "outputs": [],
   "source": []
  },
  {
   "cell_type": "code",
   "execution_count": null,
   "metadata": {},
   "outputs": [],
   "source": []
  },
  {
   "cell_type": "code",
   "execution_count": null,
   "metadata": {},
   "outputs": [],
   "source": []
  },
  {
   "cell_type": "code",
   "execution_count": null,
   "metadata": {},
   "outputs": [],
   "source": []
  },
  {
   "cell_type": "code",
   "execution_count": null,
   "metadata": {},
   "outputs": [],
   "source": []
  },
  {
   "cell_type": "code",
   "execution_count": null,
   "metadata": {},
   "outputs": [],
   "source": []
  },
  {
   "cell_type": "code",
   "execution_count": null,
   "metadata": {},
   "outputs": [],
   "source": []
  },
  {
   "cell_type": "code",
   "execution_count": null,
   "metadata": {},
   "outputs": [],
   "source": []
  },
  {
   "cell_type": "code",
   "execution_count": null,
   "metadata": {},
   "outputs": [],
   "source": []
  },
  {
   "cell_type": "code",
   "execution_count": null,
   "metadata": {},
   "outputs": [],
   "source": []
  },
  {
   "cell_type": "code",
   "execution_count": null,
   "metadata": {},
   "outputs": [],
   "source": [
    "\n"
   ]
  },
  {
   "cell_type": "code",
   "execution_count": null,
   "metadata": {},
   "outputs": [],
   "source": []
  }
 ],
 "metadata": {
  "kernelspec": {
   "display_name": "Python 3",
   "language": "python",
   "name": "python3"
  },
  "language_info": {
   "codemirror_mode": {
    "name": "ipython",
    "version": 3
   },
   "file_extension": ".py",
   "mimetype": "text/x-python",
   "name": "python",
   "nbconvert_exporter": "python",
   "pygments_lexer": "ipython3",
   "version": "3.7.4"
  }
 },
 "nbformat": 4,
 "nbformat_minor": 4
}

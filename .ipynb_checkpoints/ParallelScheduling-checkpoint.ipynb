{
 "cells": [
  {
   "cell_type": "code",
   "execution_count": null,
   "metadata": {},
   "outputs": [],
   "source": [
    "from gurobipy import *\n",
    "\n",
    "number_job = 10  # number_job\n",
    "number_machine = 3 \n",
    "processing_time = [3,5,1,3,2,4,5,6,4,4]\n",
    "# resource_consumption = [4,2,3,3,1,1,2,3,1,1,1,4]\n",
    "# Job_successors = [[1,2,3],[4],[5,7],[5],[6],[7,8,9],[10],[10],[11],[11],[11],[]]\n",
    "\n",
    "\n",
    "# Initial the gurobi model\n",
    "m = Model()\n",
    "\n",
    "#add variables \n",
    "x = m.addVars(number_machine,number_job,vtype=GRB.BINARY, name='x')\n",
    "Cmax = m.addVar(lb = 0, name='makespan')\n",
    "\n",
    "# Set the obj which means the minmize the makespan\n",
    "m.setObjective(Cmax,GRB.MINIMIZE)\n",
    "\n",
    "# add constraints\n",
    "for i in range(number_machine):\n",
    "    m.addConstr(quicksum(x[i,j]*processing_time[j] for j in range(number_job)) <= Cmax) \n",
    "\n",
    "for j in range(number_job):\n",
    "    m.addConstr(quicksum(x[i,j] for i in range(number_machine)) == 1) \n",
    "\n",
    "m.optimize()\n",
    "\n",
    "\n",
    "# Get the solution\n",
    "output_list=[]\n",
    "vars =  m.getVars()\n",
    "for i in range(number_machine*number_job):\n",
    "#     print('%s %g' % (vars[i].varName, vars[i].x))\n",
    "    output_list.append(vars[i].x)\n",
    "\n",
    "    \n",
    "    \n",
    "# construct the 2-d array to store the jobs that process on each machine\n",
    "machine_list =[]\n",
    "for i in range(number_machine):\n",
    "    machine_list.append([])\n",
    "for i in range(len(output_list)):\n",
    "    if(output_list[i] == 1):\n",
    "        machine_list[i//number_job].append(i%number_job)\n",
    "\n",
    "# print (machine_list)\n",
    "\n",
    "# get the start date/finish date of each job\n",
    "m_time = [0] *number_machine\n",
    "start =[0]  * number_job\n",
    "finish =[0] * number_job\n",
    "for i in range(len(machine_list)):\n",
    "    for j in range(len(machine_list[i])):\n",
    "        start[machine_list[i][j]] = m_time[i]\n",
    "        finish[machine_list[i][j]] = m_time[i]+processing_time[machine_list[i][j]]\n",
    "        m_time[i] = finish[machine_list[i][j]]\n",
    "\n",
    "# Print the results （absolute time）\n",
    "print (start)\n",
    "print (finish)"
   ]
  },
  {
   "cell_type": "code",
   "execution_count": null,
   "metadata": {},
   "outputs": [],
   "source": [
    "from datetime import datetime  \n",
    "from datetime import timedelta\n",
    "\n",
    "import plotly.express as px\n",
    "import pandas as pd\n",
    "\n",
    "# organize the data (absolute date time) to plotly\n",
    "# suppose we use 2020-01-01 as the baseline time\n",
    "start_date=[]\n",
    "finish_date =[]\n",
    "\n",
    "start_date_base = datetime.strptime('2020-01-01','%Y-%m-%d')\n",
    "\n",
    "for i in range(number_job):\n",
    "    start_date.append((start_date_base + timedelta(days=start[i])).strftime('%Y-%m-%d'))\n",
    "    finish_date.append((start_date_base + timedelta(days=finish[i])).strftime('%Y-%m-%d'))\n",
    "\n",
    "row_list = []\n",
    "Job_index =0\n",
    "for i in range(len(machine_list)):\n",
    "    for j in range(len(machine_list[i])):\n",
    "        dict1 = dict(Machine = \"Machine\"+str(i+1), Job  = \"Job\"+str(machine_list[i][j]+1), Start = start_date[machine_list[i][j]], Finish = finish_date[machine_list[i][j]])\n",
    "        row_list.append(dict1)\n",
    "\n",
    "df = pd.DataFrame(row_list)\n",
    "print (df)\n",
    "\n",
    "fig = px.timeline(df, x_start=\"Start\", x_end=\"Finish\", y=\"Machine\", color = 'Job')\n",
    "fig.update_layout(showlegend=False) \n",
    "fig.show()"
   ]
  },
  {
   "cell_type": "code",
   "execution_count": null,
   "metadata": {
    "jupyter": {
     "source_hidden": true
    }
   },
   "outputs": [],
   "source": []
  },
  {
   "cell_type": "code",
   "execution_count": null,
   "metadata": {},
   "outputs": [],
   "source": []
  },
  {
   "cell_type": "code",
   "execution_count": null,
   "metadata": {},
   "outputs": [],
   "source": []
  },
  {
   "cell_type": "code",
   "execution_count": null,
   "metadata": {},
   "outputs": [],
   "source": []
  },
  {
   "cell_type": "code",
   "execution_count": null,
   "metadata": {},
   "outputs": [],
   "source": []
  },
  {
   "cell_type": "code",
   "execution_count": null,
   "metadata": {},
   "outputs": [],
   "source": []
  },
  {
   "cell_type": "code",
   "execution_count": null,
   "metadata": {},
   "outputs": [],
   "source": []
  },
  {
   "cell_type": "code",
   "execution_count": null,
   "metadata": {},
   "outputs": [],
   "source": []
  },
  {
   "cell_type": "code",
   "execution_count": null,
   "metadata": {},
   "outputs": [],
   "source": []
  },
  {
   "cell_type": "code",
   "execution_count": null,
   "metadata": {},
   "outputs": [],
   "source": []
  },
  {
   "cell_type": "code",
   "execution_count": null,
   "metadata": {},
   "outputs": [],
   "source": []
  },
  {
   "cell_type": "code",
   "execution_count": null,
   "metadata": {},
   "outputs": [],
   "source": []
  },
  {
   "cell_type": "code",
   "execution_count": null,
   "metadata": {},
   "outputs": [],
   "source": []
  },
  {
   "cell_type": "code",
   "execution_count": null,
   "metadata": {},
   "outputs": [],
   "source": []
  },
  {
   "cell_type": "code",
   "execution_count": null,
   "metadata": {},
   "outputs": [],
   "source": []
  },
  {
   "cell_type": "code",
   "execution_count": null,
   "metadata": {},
   "outputs": [],
   "source": [
    "\n"
   ]
  },
  {
   "cell_type": "code",
   "execution_count": null,
   "metadata": {},
   "outputs": [],
   "source": []
  },
  {
   "cell_type": "code",
   "execution_count": null,
   "metadata": {},
   "outputs": [],
   "source": []
  },
  {
   "cell_type": "code",
   "execution_count": null,
   "metadata": {},
   "outputs": [],
   "source": []
  },
  {
   "cell_type": "code",
   "execution_count": null,
   "metadata": {},
   "outputs": [],
   "source": []
  },
  {
   "cell_type": "code",
   "execution_count": null,
   "metadata": {},
   "outputs": [],
   "source": []
  },
  {
   "cell_type": "code",
   "execution_count": null,
   "metadata": {},
   "outputs": [],
   "source": []
  },
  {
   "cell_type": "code",
   "execution_count": null,
   "metadata": {},
   "outputs": [],
   "source": []
  },
  {
   "cell_type": "code",
   "execution_count": null,
   "metadata": {},
   "outputs": [],
   "source": []
  },
  {
   "cell_type": "code",
   "execution_count": null,
   "metadata": {},
   "outputs": [],
   "source": []
  },
  {
   "cell_type": "code",
   "execution_count": null,
   "metadata": {},
   "outputs": [],
   "source": []
  },
  {
   "cell_type": "code",
   "execution_count": null,
   "metadata": {},
   "outputs": [],
   "source": [
    "\n"
   ]
  },
  {
   "cell_type": "code",
   "execution_count": null,
   "metadata": {},
   "outputs": [],
   "source": []
  }
 ],
 "metadata": {
  "kernelspec": {
   "display_name": "Python 3",
   "language": "python",
   "name": "python3"
  },
  "language_info": {
   "codemirror_mode": {
    "name": "ipython",
    "version": 3
   },
   "file_extension": ".py",
   "mimetype": "text/x-python",
   "name": "python",
   "nbconvert_exporter": "python",
   "pygments_lexer": "ipython3",
   "version": "3.7.4"
  }
 },
 "nbformat": 4,
 "nbformat_minor": 4
}

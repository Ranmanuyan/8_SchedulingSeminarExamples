{
 "cells": [
  {
   "cell_type": "code",
   "execution_count": 1,
   "metadata": {},
   "outputs": [],
   "source": [
    "from gurobipy import *"
   ]
  },
  {
   "cell_type": "code",
   "execution_count": 2,
   "metadata": {},
   "outputs": [
    {
     "name": "stdout",
     "output_type": "stream",
     "text": [
      "         SP1    SP2    SP3    SP4    SP5\n",
      "004UP    593    593    593  10000  10000\n",
      "013QL    365    365    365  10000  10000\n",
      "021AB    501    501    501  10000  10000\n",
      "057FG  10000  10000  10000    565    565\n",
      "059TH   1144   1144   1144  10000  10000\n",
      "078GH    812    812    812  10000  10000\n",
      "078JK    904    904    904  10000  10000\n",
      "089PW    796    796    796  10000  10000\n",
      "089RT  10000  10000  10000    425    425\n",
      "095EB  10000  10000  10000    355    355\n"
     ]
    }
   ],
   "source": [
    "#data\n",
    "\n",
    "import pandas as pd\n",
    "import numpy as np\n",
    "\n",
    "df1=pd.read_excel('source_data2.xlsx','processingtime',index_col=0,header=0)\n",
    "print(df1)"
   ]
  },
  {
   "cell_type": "code",
   "execution_count": 3,
   "metadata": {},
   "outputs": [],
   "source": [
    "procTimes=df1.values\n",
    "procTimes=np.transpose(procTimes)\n",
    "\n",
    "setupTime=15\n",
    "nLines=procTimes.shape[0]\n",
    "nCodes=procTimes.shape[1]"
   ]
  },
  {
   "cell_type": "code",
   "execution_count": 4,
   "metadata": {},
   "outputs": [
    {
     "name": "stdout",
     "output_type": "stream",
     "text": [
      "\n",
      "--------------------------------------------\n",
      "Warning: your license will expire in 5 days\n",
      "--------------------------------------------\n",
      "\n",
      "Academic license - for non-commercial use only - expires 2021-05-03\n",
      "Using license file C:\\Users\\ricky\\gurobi.lic\n"
     ]
    }
   ],
   "source": [
    "m=Model('Project scheduling model')"
   ]
  },
  {
   "cell_type": "code",
   "execution_count": 5,
   "metadata": {},
   "outputs": [],
   "source": [
    "#variables\n",
    "\n",
    "x=m.addVars(nLines,nCodes,vtype=GRB.BINARY,name='x')\n",
    "Cmax_f=m.addVar(lb=0,name='makespan_f')\n",
    "Cmax_c=m.addVar(lb=0,name='makespan_c')"
   ]
  },
  {
   "cell_type": "code",
   "execution_count": 6,
   "metadata": {},
   "outputs": [],
   "source": [
    "#objective function\n",
    "\n",
    "m.setObjective(Cmax_f+Cmax_c,GRB.MINIMIZE)"
   ]
  },
  {
   "cell_type": "code",
   "execution_count": 7,
   "metadata": {},
   "outputs": [],
   "source": [
    "#constraints\n",
    "\n",
    "for i in range(0,3):\n",
    "    m.addConstr(quicksum(procTimes[i,j]*x[i,j] for j in range(nCodes))<=Cmax_f)\n",
    "    \n",
    "for i in range(3,nLines):\n",
    "    m.addConstr(quicksum(procTimes[i,j]*x[i,j] for j in range(nCodes))<=Cmax_c)\n",
    "\n",
    "for j in range(nCodes):\n",
    "    m.addConstr(quicksum(x[i,j] for i in range(nLines))==1)"
   ]
  },
  {
   "cell_type": "code",
   "execution_count": 8,
   "metadata": {},
   "outputs": [
    {
     "name": "stdout",
     "output_type": "stream",
     "text": [
      "Gurobi Optimizer version 9.1.1 build v9.1.1rc0 (win64)\n",
      "Thread count: 2 physical cores, 4 logical processors, using up to 4 threads\n",
      "Optimize a model with 15 rows, 52 columns and 105 nonzeros\n",
      "Model fingerprint: 0x66b6c8d1\n",
      "Variable types: 2 continuous, 50 integer (50 binary)\n",
      "Coefficient statistics:\n",
      "  Matrix range     [1e+00, 1e+04]\n",
      "  Objective range  [1e+00, 1e+00]\n",
      "  Bounds range     [1e+00, 1e+00]\n",
      "  RHS range        [1e+00, 1e+00]\n",
      "Found heuristic solution: objective 30000.000000\n",
      "Presolve time: 0.00s\n",
      "Presolved: 15 rows, 52 columns, 105 nonzeros\n",
      "Variable types: 0 continuous, 52 integer (50 binary)\n",
      "\n",
      "Root relaxation: objective 2.377500e+03, 22 iterations, 0.00 seconds\n",
      "\n",
      "    Nodes    |    Current Node    |     Objective Bounds      |     Work\n",
      " Expl Unexpl |  Obj  Depth IntInf | Incumbent    BestBd   Gap | It/Node Time\n",
      "\n",
      "     0     0 2377.50000    0    6 30000.0000 2377.50000  92.1%     -    0s\n",
      "H    0     0                    2736.0000000 2377.50000  13.1%     -    0s\n",
      "     0     0 2380.00000    0    6 2736.00000 2380.00000  13.0%     -    0s\n",
      "     0     0 2485.00000    0    4 2736.00000 2485.00000  9.17%     -    0s\n",
      "H    0     0                    2720.0000000 2485.00000  8.64%     -    0s\n",
      "H    0     0                    2534.0000000 2485.00000  1.93%     -    0s\n",
      "     0     0 2485.00000    0    9 2534.00000 2485.00000  1.93%     -    0s\n",
      "H    0     0                    2517.0000000 2485.00000  1.27%     -    0s\n",
      "     0     0     cutoff    0      2517.00000 2517.00000  0.00%     -    0s\n",
      "\n",
      "Cutting planes:\n",
      "  Gomory: 1\n",
      "  Cover: 4\n",
      "  Clique: 1\n",
      "  MIR: 1\n",
      "\n",
      "Explored 1 nodes (96 simplex iterations) in 0.10 seconds\n",
      "Thread count was 4 (of 4 available processors)\n",
      "\n",
      "Solution count 5: 2517 2534 2720 ... 30000\n",
      "\n",
      "Optimal solution found (tolerance 1.00e-04)\n",
      "Best objective 2.517000000000e+03, best bound 2.517000000000e+03, gap 0.0000%\n"
     ]
    }
   ],
   "source": [
    "#solve\n",
    "\n",
    "m.optimize()"
   ]
  },
  {
   "cell_type": "code",
   "execution_count": 9,
   "metadata": {},
   "outputs": [
    {
     "data": {
      "text/plain": [
       "2517.0"
      ]
     },
     "execution_count": 9,
     "metadata": {},
     "output_type": "execute_result"
    }
   ],
   "source": [
    "m.ObjVal"
   ]
  },
  {
   "cell_type": "code",
   "execution_count": 10,
   "metadata": {},
   "outputs": [
    {
     "name": "stdout",
     "output_type": "stream",
     "text": [
      "\n",
      "    Variable            X \n",
      "-------------------------\n",
      "      x[0,0]            1 \n",
      "      x[0,4]            1 \n",
      "      x[1,1]            1 \n",
      "      x[1,2]            1 \n",
      "      x[1,5]            1 \n",
      "      x[2,6]            1 \n",
      "      x[2,7]            1 \n",
      "      x[3,3]            1 \n",
      "      x[4,8]            1 \n",
      "      x[4,9]            1 \n",
      "  makespan_f         1737 \n",
      "  makespan_c          780 \n"
     ]
    }
   ],
   "source": [
    "m.printAttr('X')"
   ]
  },
  {
   "cell_type": "code",
   "execution_count": 11,
   "metadata": {},
   "outputs": [
    {
     "name": "stdout",
     "output_type": "stream",
     "text": [
      "[[0, 4], [1, 2, 5], [6, 7], [3], [8, 9]]\n"
     ]
    }
   ],
   "source": [
    "#creating line list\n",
    "\n",
    "line_list =[]\n",
    "for i in range(nLines):\n",
    "    line_list.append([])\n",
    "    \n",
    "for i in range(nLines):\n",
    "    for j in range(nCodes):\n",
    "        if(x[i,j].X == 1):\n",
    "            line_list[i].append(j)\n",
    "        \n",
    "print(line_list)"
   ]
  },
  {
   "cell_type": "code",
   "execution_count": 12,
   "metadata": {},
   "outputs": [
    {
     "name": "stdout",
     "output_type": "stream",
     "text": [
      "[15, 15, 380, 15, 608, 881, 15, 919, 15, 440]\n",
      "[593, 365, 866, 565, 1737, 1678, 904, 1700, 425, 780]\n"
     ]
    }
   ],
   "source": [
    "#getting start and completion time of batches\n",
    "\n",
    "m_time=[0]*nLines\n",
    "setup=[0]*nCodes\n",
    "start=[0]*nCodes\n",
    "finish=[0]*nCodes\n",
    "for i in range(len(line_list)):\n",
    "    for j in range(len(line_list[i])):\n",
    "        setup[line_list[i][j]]=setupTime\n",
    "        start[line_list[i][j]]=m_time[i]+setup[line_list[i][j]]\n",
    "        finish[line_list[i][j]]=m_time[i]+procTimes[i,line_list[i][j]]\n",
    "        m_time[i]=finish[line_list[i][j]]\n",
    "\n",
    "print(start)\n",
    "print(finish)\n",
    "\n",
    "for i in range(len(start)):\n",
    "    start[i]=int(start[i])\n",
    "for i in range(len(finish)):\n",
    "    finish[i]=int(finish[i])\n",
    "for i in range(len(setup)):\n",
    "    setup[i]=int(setup[i])"
   ]
  },
  {
   "cell_type": "code",
   "execution_count": 13,
   "metadata": {},
   "outputs": [
    {
     "name": "stdout",
     "output_type": "stream",
     "text": [
      "   Line   Code             Start            Finish\n",
      "0   SP1  004UP  2021-03-23 00:15  2021-03-23 09:53\n",
      "1   SP1  059TH  2021-03-23 10:08  2021-03-24 04:57\n",
      "2   SP2  013QL  2021-03-23 00:15  2021-03-23 06:05\n",
      "3   SP2  021AB  2021-03-23 06:20  2021-03-23 14:26\n",
      "4   SP2  078GH  2021-03-23 14:41  2021-03-24 03:58\n",
      "5   SP3  078JK  2021-03-23 00:15  2021-03-23 15:04\n",
      "6   SP3  089PW  2021-03-23 15:19  2021-03-24 04:20\n",
      "7   SP4  057FG  2021-03-23 00:15  2021-03-23 09:25\n",
      "8   SP5  089RT  2021-03-23 00:15  2021-03-23 07:05\n",
      "9   SP5  095EB  2021-03-23 07:20  2021-03-23 13:00\n",
      "10  SP1  Setup  2021-03-23 00:00  2021-03-23 00:15\n",
      "11  SP1  Setup  2021-03-23 09:53  2021-03-23 10:08\n",
      "12  SP2  Setup  2021-03-23 00:00  2021-03-23 00:15\n",
      "13  SP2  Setup  2021-03-23 06:05  2021-03-23 06:20\n",
      "14  SP2  Setup  2021-03-23 14:26  2021-03-23 14:41\n",
      "15  SP3  Setup  2021-03-23 00:00  2021-03-23 00:15\n",
      "16  SP3  Setup  2021-03-23 15:04  2021-03-23 15:19\n",
      "17  SP4  Setup  2021-03-23 00:00  2021-03-23 00:15\n",
      "18  SP5  Setup  2021-03-23 00:00  2021-03-23 00:15\n",
      "19  SP5  Setup  2021-03-23 07:05  2021-03-23 07:20\n"
     ]
    }
   ],
   "source": [
    "#plot the gantt\n",
    "\n",
    "from datetime import datetime  \n",
    "from datetime import timedelta\n",
    "\n",
    "import plotly.express as px\n",
    "\n",
    "start_time=[]\n",
    "finish_time =[]\n",
    "setup_start_time=[]\n",
    "setup_finish_time =[]\n",
    "\n",
    "start_time_base = datetime.strptime('2021-03-23 00:00','%Y-%m-%d %H:%M')\n",
    "\n",
    "for i in range(nCodes):\n",
    "    start_time.append((start_time_base + timedelta(minutes=start[i])).strftime('%Y-%m-%d %H:%M'))\n",
    "    finish_time.append((start_time_base + timedelta(minutes=finish[i])).strftime('%Y-%m-%d %H:%M'))\n",
    "    setup_start_time.append((start_time_base + timedelta(minutes=start[i]) - timedelta(minutes=setup[i])).strftime('%Y-%m-%d %H:%M'))\n",
    "    setup_finish_time.append((start_time_base + timedelta(minutes=start[i])).strftime('%Y-%m-%d %H:%M'))\n",
    "\n",
    "row_list = []\n",
    "Code_index =0\n",
    "for i in range(len(line_list)):\n",
    "    for j in range(len(line_list[i])):\n",
    "        dict1 = dict(Line = \"SP\"+str(i+1), Code = df1.index[line_list[i][j]], Start = start_time[line_list[i][j]], Finish = finish_time[line_list[i][j]])\n",
    "        row_list.append(dict1)\n",
    "\n",
    "for i in range(len(line_list)):\n",
    "    for j in range(len(line_list[i])):\n",
    "        dict2 =dict(Line = \"SP\"+str(i+1), Code = 'Setup', Start = setup_start_time[line_list[i][j]], Finish = setup_finish_time[line_list[i][j]])\n",
    "        row_list.append(dict2)\n",
    "\n",
    "df2 = pd.DataFrame(row_list)\n",
    "print (df2)"
   ]
  },
  {
   "cell_type": "code",
   "execution_count": 1,
   "metadata": {
    "scrolled": false
   },
   "outputs": [
    {
     "ename": "NameError",
     "evalue": "name 'px' is not defined",
     "output_type": "error",
     "traceback": [
      "\u001b[0;31m---------------------------------------------------------------------------\u001b[0m",
      "\u001b[0;31mNameError\u001b[0m                                 Traceback (most recent call last)",
      "\u001b[0;32m<ipython-input-1-3956e98754d0>\u001b[0m in \u001b[0;36m<module>\u001b[0;34m\u001b[0m\n\u001b[0;32m----> 1\u001b[0;31m \u001b[0mfig\u001b[0m \u001b[0;34m=\u001b[0m \u001b[0mpx\u001b[0m\u001b[0;34m.\u001b[0m\u001b[0mtimeline\u001b[0m\u001b[0;34m(\u001b[0m\u001b[0mdf2\u001b[0m\u001b[0;34m,\u001b[0m \u001b[0mx_start\u001b[0m\u001b[0;34m=\u001b[0m\u001b[0;34m\"Start\"\u001b[0m\u001b[0;34m,\u001b[0m \u001b[0mx_end\u001b[0m\u001b[0;34m=\u001b[0m\u001b[0;34m\"Finish\"\u001b[0m\u001b[0;34m,\u001b[0m \u001b[0my\u001b[0m\u001b[0;34m=\u001b[0m\u001b[0;34m\"Line\"\u001b[0m\u001b[0;34m,\u001b[0m \u001b[0mcolor\u001b[0m \u001b[0;34m=\u001b[0m \u001b[0;34m'Code'\u001b[0m\u001b[0;34m,\u001b[0m \u001b[0mcolor_discrete_map\u001b[0m\u001b[0;34m=\u001b[0m\u001b[0;34m{\u001b[0m\u001b[0;34m\"Setup\"\u001b[0m\u001b[0;34m:\u001b[0m\u001b[0;34m\"grey\"\u001b[0m\u001b[0;34m}\u001b[0m\u001b[0;34m)\u001b[0m\u001b[0;34m\u001b[0m\u001b[0;34m\u001b[0m\u001b[0m\n\u001b[0m\u001b[1;32m      2\u001b[0m \u001b[0mfig\u001b[0m\u001b[0;34m.\u001b[0m\u001b[0mupdate_layout\u001b[0m\u001b[0;34m(\u001b[0m\u001b[0mshowlegend\u001b[0m\u001b[0;34m=\u001b[0m\u001b[0;32mFalse\u001b[0m\u001b[0;34m)\u001b[0m\u001b[0;34m\u001b[0m\u001b[0;34m\u001b[0m\u001b[0m\n\u001b[1;32m      3\u001b[0m \u001b[0mfig\u001b[0m\u001b[0;34m.\u001b[0m\u001b[0mshow\u001b[0m\u001b[0;34m(\u001b[0m\u001b[0;34m)\u001b[0m\u001b[0;34m\u001b[0m\u001b[0;34m\u001b[0m\u001b[0m\n",
      "\u001b[0;31mNameError\u001b[0m: name 'px' is not defined"
     ]
    }
   ],
   "source": [
    "fig = px.timeline(df2, x_start=\"Start\", x_end=\"Finish\", y=\"Line\", color = 'Code', color_discrete_map={\"Setup\":\"grey\"})\n",
    "fig.update_layout(showlegend=False) \n",
    "fig.show()"
   ]
  },
  {
   "cell_type": "code",
   "execution_count": null,
   "metadata": {},
   "outputs": [],
   "source": []
  }
 ],
 "metadata": {
  "kernelspec": {
   "display_name": "Python 3",
   "language": "python",
   "name": "python3"
  },
  "language_info": {
   "codemirror_mode": {
    "name": "ipython",
    "version": 3
   },
   "file_extension": ".py",
   "mimetype": "text/x-python",
   "name": "python",
   "nbconvert_exporter": "python",
   "pygments_lexer": "ipython3",
   "version": "3.7.4"
  }
 },
 "nbformat": 4,
 "nbformat_minor": 4
}

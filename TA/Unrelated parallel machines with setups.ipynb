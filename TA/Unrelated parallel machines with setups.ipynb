{
 "cells": [
  {
   "cell_type": "code",
   "execution_count": null,
   "metadata": {},
   "outputs": [],
   "source": [
    "from gurobipy import *"
   ]
  },
  {
   "cell_type": "code",
   "execution_count": null,
   "metadata": {},
   "outputs": [],
   "source": [
    "#data\n",
    "\n",
    "import pandas as pd\n",
    "import numpy as np\n",
    "\n",
    "df1=pd.read_excel('source_data.xlsx','processingtime',index_col=0,header=0)\n",
    "df2=pd.read_excel('source_data.xlsx','setuptime',index_col=0,header=0)"
   ]
  },
  {
   "cell_type": "code",
   "execution_count": null,
   "metadata": {},
   "outputs": [],
   "source": [
    "procTimes=df1.values\n",
    "procTimes=np.transpose(procTimes)\n",
    "\n",
    "setupTimes=df2.values\n",
    "nMachines=procTimes.shape[0]\n",
    "nJobs=procTimes.shape[1]+1\n",
    "\n",
    "print(procTimes)\n",
    "print(setupTimes)\n",
    "print(nJobs)\n",
    "print(nMachines)"
   ]
  },
  {
   "cell_type": "code",
   "execution_count": null,
   "metadata": {},
   "outputs": [],
   "source": [
    "m=Model('Unrelated parallel machines with setups')"
   ]
  },
  {
   "cell_type": "code",
   "execution_count": null,
   "metadata": {},
   "outputs": [],
   "source": [
    "#variables\n",
    "\n",
    "x=m.addVars(nMachines,nJobs,nJobs,vtype=GRB.BINARY,name='x')\n",
    "C=m.addVars(nMachines,nJobs,lb=0,name='compl')\n",
    "Cmax=m.addVar(lb=0,name='makespan')"
   ]
  },
  {
   "cell_type": "code",
   "execution_count": null,
   "metadata": {},
   "outputs": [],
   "source": [
    "#objective function\n",
    "\n",
    "m.setObjective(Cmax,GRB.MINIMIZE)"
   ]
  },
  {
   "cell_type": "code",
   "execution_count": null,
   "metadata": {},
   "outputs": [],
   "source": [
    "#constraints\n",
    "\n",
    "for k in range(1,nJobs):\n",
    "    m.addConstr(quicksum(x[i,j,k] for i in range(nMachines) for j in range(nJobs) if j!=k)==1)\n",
    "\n",
    "for j in range(1,nJobs):\n",
    "    m.addConstr(quicksum(x[i,j,k] for i in range(nMachines) for k in range(1,nJobs) if j!=k)<=1)\n",
    "    \n",
    "for i in range(nMachines):\n",
    "    m.addConstr(quicksum(x[i,0,k] for k in range(1,nJobs))==1)\n",
    "    \n",
    "for j in range(1,nJobs):\n",
    "    for k in range(1,nJobs):\n",
    "        for i in range(nMachines):\n",
    "            if j!=k:\n",
    "                m.addConstr(quicksum(x[i,h,j] for h in range(nJobs) if h!=k if h!=j)>=x[i,j,k])\n",
    "                \n",
    "for j in range(nJobs):\n",
    "    for k in range(1,nJobs):\n",
    "        for i in range(nMachines):\n",
    "            if j!=k:\n",
    "                m.addConstr(C[i,k]+1000*(1-x[i,j,k])>=C[i,j]+setupTimes[j,k]+procTimes[i,k-1])\n",
    "                                \n",
    "for i in range(nMachines):\n",
    "    m.addConstr(C[i,0]==0)\n",
    "    \n",
    "# for j in range(1,nJobs):\n",
    "#     for i in range(nMachines):\n",
    "#         m.addConstr(C[i,j]>=0)\n",
    "        \n",
    "for j in range(1,nJobs):\n",
    "    for i in range(nMachines):\n",
    "        m.addConstr(Cmax>=C[i,j])"
   ]
  },
  {
   "cell_type": "code",
   "execution_count": null,
   "metadata": {},
   "outputs": [],
   "source": [
    "#solve\n",
    "\n",
    "m.optimize()"
   ]
  },
  {
   "cell_type": "code",
   "execution_count": null,
   "metadata": {},
   "outputs": [],
   "source": [
    "m.ObjVal"
   ]
  },
  {
   "cell_type": "code",
   "execution_count": null,
   "metadata": {},
   "outputs": [],
   "source": [
    "m.printAttr('X')"
   ]
  },
  {
   "cell_type": "code",
   "execution_count": null,
   "metadata": {},
   "outputs": [],
   "source": [
    "#creating machine list\n",
    "\n",
    "### Think about something reasonable on this part  ### \n",
    "\n",
    "machine_list =[]\n",
    "for i in range(nMachines):\n",
    "    machine_list.append([])\n",
    "    \n",
    "for i in range(nMachines):\n",
    "    machine_list[i].append(0)==0\n",
    "    q=0\n",
    "    for j in range(nJobs):\n",
    "        for k in range(nJobs):\n",
    "            if x[i,j,k].X==1 and j==q:\n",
    "                machine_list[i].append(k)\n",
    "                q=k\n",
    "    for j in range(nJobs):\n",
    "        for k in range(nJobs):\n",
    "            if x[i,j,k].X==1 and j==q:\n",
    "                machine_list[i].append(k)\n",
    "                q=k\n",
    "                \n",
    "print(machine_list)"
   ]
  },
  {
   "cell_type": "code",
   "execution_count": null,
   "metadata": {},
   "outputs": [],
   "source": [
    "#getting start and completion time of jobs\n",
    "\n",
    "m_time=[0]*nMachines\n",
    "setup=[0]*nJobs\n",
    "start=[0]*nJobs\n",
    "finish=[0]*nJobs\n",
    "\n",
    "for i in range(len(machine_list)):\n",
    "    for j in range(1,len(machine_list[i])):\n",
    "        setup[machine_list[i][j]]=setupTimes[machine_list[i][j-1],machine_list[i][j]]\n",
    "        start[machine_list[i][j]]=m_time[i]+setup[machine_list[i][j]]\n",
    "        finish[machine_list[i][j]]=start[machine_list[i][j]]+procTimes[i,machine_list[i][j]-1]\n",
    "        m_time[i]=finish[machine_list[i][j]]\n",
    "        \n",
    "\n",
    "print(start)\n",
    "print(finish)\n",
    "print(m_time)\n",
    "print(setup)\n",
    "\n",
    "for i in range(len(start)):\n",
    "    start[i]=int(start[i])\n",
    "for i in range(len(finish)):\n",
    "    finish[i]=int(finish[i])    \n",
    "for i in range(len(setup)):\n",
    "    setup[i]=int(setup[i])"
   ]
  },
  {
   "cell_type": "code",
   "execution_count": null,
   "metadata": {},
   "outputs": [],
   "source": [
    "#plot the gantt\n",
    "\n",
    "from datetime import datetime  \n",
    "from datetime import timedelta\n",
    "\n",
    "\n",
    "\n",
    "start_time=[]\n",
    "finish_time =[]\n",
    "setup_start_time=[]\n",
    "setup_finish_time =[]\n",
    "\n",
    "start_time_base = datetime.strptime('2021-03-23 00:00','%Y-%m-%d %H:%M')\n",
    "\n",
    "for i in range(nJobs):\n",
    "    start_time.append((start_time_base + timedelta(minutes=start[i])).strftime('%Y-%m-%d %H:%M'))\n",
    "    finish_time.append((start_time_base + timedelta(minutes=finish[i])).strftime('%Y-%m-%d %H:%M'))\n",
    "    setup_start_time.append((start_time_base + timedelta(minutes=start[i]) - timedelta(minutes=setup[i])).strftime('%Y-%m-%d %H:%M'))\n",
    "    setup_finish_time.append((start_time_base + timedelta(minutes=start[i])).strftime('%Y-%m-%d %H:%M'))\n",
    "\n",
    "row_list = []\n",
    "Job_index =0\n",
    "for i in range(len(machine_list)):\n",
    "    for j in range(len(machine_list[i])):\n",
    "        dict1 = dict(Machine = \"Machine\"+str(i+1), Job  = \"Job\"+str(machine_list[i][j]), Start = start_time[machine_list[i][j]], Finish = finish_time[machine_list[i][j]])\n",
    "        row_list.append(dict1)\n",
    "\n",
    "#### Here I re-add the setup activities as jobs into row_list\n",
    "for i in range(len(machine_list)):\n",
    "    for j in range(len(machine_list[i])):\n",
    "        dic2 =dict(Machine = \"Machine\"+str(i+1),Job = 'Setup', Start = setup_start_time[machine_list[i][j]], Finish = setup_finish_time[machine_list[i][j]])\n",
    "        row_list.append(dic2)\n",
    "\n",
    "df2 = pd.DataFrame(row_list)\n",
    "\n",
    "\n",
    "print (df2)"
   ]
  },
  {
   "cell_type": "code",
   "execution_count": null,
   "metadata": {},
   "outputs": [],
   "source": [
    "import plotly.express as px\n",
    "\n",
    "fig = px.timeline(df2, x_start=\"Start\", x_end=\"Finish\", y=\"Machine\", color = 'Job')\n",
    "fig.show()"
   ]
  },
  {
   "cell_type": "code",
   "execution_count": null,
   "metadata": {},
   "outputs": [],
   "source": []
  },
  {
   "cell_type": "code",
   "execution_count": null,
   "metadata": {},
   "outputs": [],
   "source": []
  }
 ],
 "metadata": {
  "kernelspec": {
   "display_name": "Python 3",
   "language": "python",
   "name": "python3"
  },
  "language_info": {
   "codemirror_mode": {
    "name": "ipython",
    "version": 3
   },
   "file_extension": ".py",
   "mimetype": "text/x-python",
   "name": "python",
   "nbconvert_exporter": "python",
   "pygments_lexer": "ipython3",
   "version": "3.7.4"
  }
 },
 "nbformat": 4,
 "nbformat_minor": 4
}
